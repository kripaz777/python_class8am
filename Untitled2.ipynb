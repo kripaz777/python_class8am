{
 "cells": [
  {
   "cell_type": "code",
   "execution_count": 5,
   "metadata": {},
   "outputs": [],
   "source": [
    "import mysql.connector  \t\t#importing database\n",
    "database = mysql.connector.connect(\n",
    "    host=\"localhost\",\n",
    "    user=\"root\",\n",
    "    password=\"\",\n",
    "    database = \"class8ampython\"\n",
    ")\n",
    "db = database.cursor() \n"
   ]
  },
  {
   "cell_type": "code",
   "execution_count": 6,
   "metadata": {},
   "outputs": [
    {
     "name": "stdout",
     "output_type": "stream",
     "text": [
      "(1, 'Ram', 78, 89, 78, 90, 72, 412, 80.0, 'A')\n",
      "(2, 'Shyam', 89, 56, 89, 67, 76, 400, 80.0, 'A')\n",
      "(3, 'Nabin', 78, 89, 78, 90, 80, 412, 80.0, 'A')\n",
      "(4, 'Sabin', 78, 89, 78, 90, 80, 412, 80.0, 'A')\n"
     ]
    }
   ],
   "source": [
    "sql = \"SELECT * FROM student\"\n",
    "db.execute(sql)\n",
    "result =db.fetchall()\n",
    "for x in result:\n",
    "    print(x)\n"
   ]
  },
  {
   "cell_type": "code",
   "execution_count": 7,
   "metadata": {},
   "outputs": [
    {
     "name": "stdout",
     "output_type": "stream",
     "text": [
      "(1, 'Ram', 'A')\n",
      "(2, 'Shyam', 'A')\n",
      "(3, 'Nabin', 'A')\n",
      "(4, 'Sabin', 'A')\n"
     ]
    }
   ],
   "source": [
    "sql = \"SELECT sn,name,grade FROM student\"\n",
    "db.execute(sql)\n",
    "result =db.fetchall()\n",
    "for x in result:\n",
    "    print(x)\n"
   ]
  },
  {
   "cell_type": "code",
   "execution_count": 9,
   "metadata": {},
   "outputs": [],
   "source": [
    "sql = \"INSERT INTO student (name, physics, chemistry, math, english, nepali, total, per, grade) VALUES ('Sabin', 78, 89, 78, 90, 80, 412, 80.0, 'A')\"\n",
    "db.execute(sql)\n",
    "database.commit()\n"
   ]
  },
  {
   "cell_type": "code",
   "execution_count": 20,
   "metadata": {},
   "outputs": [
    {
     "name": "stdout",
     "output_type": "stream",
     "text": [
      "Enter n = 1\n",
      "Enter name = Hari\n",
      "Enter physics = 89\n",
      "Enter chemistry = 98\n",
      "Enter math = 78\n",
      "Enter english = 76\n",
      "Enter nepali = 78\n"
     ]
    }
   ],
   "source": [
    "n = int(input(\"Enter n = \"))\n",
    "for i in range(n):\n",
    "    name = input(\"Enter name = \")\n",
    "    physics = int(input(\"Enter physics = \"))\n",
    "    chemistry = int(input(\"Enter chemistry = \"))\n",
    "    math = int(input(\"Enter math = \"))\n",
    "    english = int(input(\"Enter english = \"))\n",
    "    nepali = int(input(\"Enter nepali = \"))\n",
    "    total = sum([physics,chemistry,math,english,nepali])\n",
    "    per = total/5\n",
    "    if per > 80:\n",
    "        grade = 'A'\n",
    "    elif per > 60:\n",
    "        grade = 'B'\n",
    "    elif per > 50:\n",
    "        grade = 'C'\n",
    "    else:\n",
    "        grade = 'F'\n",
    "        \n",
    "    sql = f\"INSERT INTO student (name, physics, chemistry, math, english, nepali, total, per, grade)  VALUES ('{name}', {physics}, {chemistry}, {math}, {english}, {nepali}, {total}, {per}, '{grade}')\"\n",
    "    db.execute(sql)\n",
    "    \n",
    "database.commit()\n"
   ]
  },
  {
   "cell_type": "code",
   "execution_count": 10,
   "metadata": {},
   "outputs": [],
   "source": [
    "sql = \"DELETE FROM student WHERE sn = 1\"\n",
    "db.execute(sql)\n",
    "database.commit()\n"
   ]
  },
  {
   "cell_type": "code",
   "execution_count": 12,
   "metadata": {},
   "outputs": [],
   "source": [
    "sql = \"DELETE FROM student WHERE name = 'Shyam'\"\n",
    "db.execute(sql)\n",
    "database.commit()\n"
   ]
  },
  {
   "cell_type": "code",
   "execution_count": 13,
   "metadata": {},
   "outputs": [
    {
     "name": "stdout",
     "output_type": "stream",
     "text": [
      "(3, 'Nabin', 'A')\n",
      "(4, 'Sabin', 'A')\n",
      "(5, 'Sabin', 'A')\n"
     ]
    }
   ],
   "source": [
    "sql = \"SELECT sn,name,grade FROM student\"\n",
    "db.execute(sql)\n",
    "result =db.fetchall()\n",
    "for x in result:\n",
    "    print(x)\n"
   ]
  },
  {
   "cell_type": "code",
   "execution_count": 16,
   "metadata": {},
   "outputs": [
    {
     "name": "stdout",
     "output_type": "stream",
     "text": [
      "(3, 'Nabin', 78, 89, 78, 90, 80, 412, 80.0, 'A')\n"
     ]
    }
   ],
   "source": [
    "sql = \"SELECT * FROM student WHERE name LIKE '%na%'\"\n",
    "db.execute(sql)\n",
    "result =db.fetchall()\n",
    "for x in result:\n",
    "    print(x)\n"
   ]
  },
  {
   "cell_type": "code",
   "execution_count": 17,
   "metadata": {},
   "outputs": [],
   "source": [
    "sql = \"Update student SET name = 'Nabin Kumar' WHERE name = 'Nabin'\"\n",
    "db.execute(sql)\n",
    "database.commit()\n"
   ]
  },
  {
   "cell_type": "code",
   "execution_count": 18,
   "metadata": {},
   "outputs": [
    {
     "name": "stdout",
     "output_type": "stream",
     "text": [
      "(3, 'Nabin Kumar', 78, 89, 78, 90, 80, 412, 80.0, 'A')\n",
      "(4, 'Sabin', 78, 89, 78, 90, 80, 412, 80.0, 'A')\n",
      "(5, 'Sabin', 78, 89, 78, 90, 80, 412, 80.0, 'A')\n"
     ]
    }
   ],
   "source": [
    "sql = \"SELECT * FROM student\"\n",
    "db.execute(sql)\n",
    "result =db.fetchall()\n",
    "for x in result:\n",
    "    print(x)\n"
   ]
  },
  {
   "cell_type": "code",
   "execution_count": null,
   "metadata": {},
   "outputs": [],
   "source": [
    "field = input(\"Enter field = \")\n",
    "data = input(\"Enter data = \")\n",
    "sql = \"DELETE FROM student WHERE {field} = '{data}'\"\n",
    "db.execute(sql)\n",
    "database.commit()\n"
   ]
  }
 ],
 "metadata": {
  "kernelspec": {
   "display_name": "Python 3 (ipykernel)",
   "language": "python",
   "name": "python3"
  },
  "language_info": {
   "codemirror_mode": {
    "name": "ipython",
    "version": 3
   },
   "file_extension": ".py",
   "mimetype": "text/x-python",
   "name": "python",
   "nbconvert_exporter": "python",
   "pygments_lexer": "ipython3",
   "version": "3.7.1"
  }
 },
 "nbformat": 4,
 "nbformat_minor": 2
}
