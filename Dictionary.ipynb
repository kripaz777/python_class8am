{
 "cells": [
  {
   "cell_type": "code",
   "execution_count": 1,
   "metadata": {},
   "outputs": [],
   "source": [
    "# Dictionary\n",
    "# -Indexing\n",
    "# -Duplicate and multiple values\n",
    "# -Ordered\n",
    "# -Mutable"
   ]
  },
  {
   "cell_type": "code",
   "execution_count": 2,
   "metadata": {},
   "outputs": [],
   "source": [
    "# # a = {}\n",
    "# # b = dict()\n",
    "\n",
    "# a = {<key>:<value>,<key>:<value>,....}\n"
   ]
  },
  {
   "cell_type": "code",
   "execution_count": 4,
   "metadata": {},
   "outputs": [
    {
     "name": "stdout",
     "output_type": "stream",
     "text": [
      "{'a': 'Apple', 'b': 'Ball', 'c': 'Cat'} {1: 1, 2: 4, 3: 9, 4: 16}\n"
     ]
    }
   ],
   "source": [
    "a = {\"a\":\"Apple\",\"b\":\"Ball\",\"c\":\"Cat\"}\n",
    "b = {1:1,2:4,3:9,4:16}\n",
    "print(a,b)"
   ]
  },
  {
   "cell_type": "code",
   "execution_count": 6,
   "metadata": {},
   "outputs": [
    {
     "name": "stdout",
     "output_type": "stream",
     "text": [
      "Apple\n",
      "3\n",
      "4\n"
     ]
    }
   ],
   "source": [
    "print(a['a'])\n",
    "print(len(a))\n",
    "print(len(b))"
   ]
  },
  {
   "cell_type": "code",
   "execution_count": 7,
   "metadata": {},
   "outputs": [
    {
     "name": "stdout",
     "output_type": "stream",
     "text": [
      "a\n",
      "b\n",
      "c\n"
     ]
    }
   ],
   "source": [
    "a = {\"a\":\"Apple\",\"b\":\"Ball\",\"c\":\"Cat\"}\n",
    "for i in a:\n",
    "    print(i)"
   ]
  },
  {
   "cell_type": "code",
   "execution_count": 8,
   "metadata": {},
   "outputs": [
    {
     "name": "stdout",
     "output_type": "stream",
     "text": [
      "Apple\n",
      "Ball\n",
      "Cat\n"
     ]
    }
   ],
   "source": [
    "a = {\"a\":\"Apple\",\"b\":\"Ball\",\"c\":\"Cat\"}\n",
    "for i in a.values():\n",
    "    print(i)"
   ]
  },
  {
   "cell_type": "code",
   "execution_count": 9,
   "metadata": {},
   "outputs": [
    {
     "name": "stdout",
     "output_type": "stream",
     "text": [
      "('a', 'Apple')\n",
      "('b', 'Ball')\n",
      "('c', 'Cat')\n"
     ]
    }
   ],
   "source": [
    "a = {\"a\":\"Apple\",\"b\":\"Ball\",\"c\":\"Cat\"}\n",
    "for i in a.items():\n",
    "    print(i)"
   ]
  },
  {
   "cell_type": "code",
   "execution_count": 10,
   "metadata": {},
   "outputs": [
    {
     "name": "stdout",
     "output_type": "stream",
     "text": [
      "{'a': 'Apple', 'b': 'Ball', 'c': 'Cat', 'A': 'Apple'}\n"
     ]
    }
   ],
   "source": [
    "a = {\"a\":\"Apple\",\"b\":\"Ball\",\"c\":\"Cat\",\"A\":\"Apple\"}\n",
    "print(a)"
   ]
  },
  {
   "cell_type": "code",
   "execution_count": 11,
   "metadata": {},
   "outputs": [
    {
     "name": "stdout",
     "output_type": "stream",
     "text": [
      "{'A': 'Ant', 'b': 'Ball', 'c': 'Cat'}\n"
     ]
    }
   ],
   "source": [
    "a = {\"A\":\"Apple\",\"b\":\"Ball\",\"c\":\"Cat\",\"A\":\"Ant\"}\n",
    "print(a)"
   ]
  },
  {
   "cell_type": "code",
   "execution_count": 14,
   "metadata": {},
   "outputs": [
    {
     "name": "stdout",
     "output_type": "stream",
     "text": [
      "{'a': 'Apple', 'b': 'Ball', 'c': 'Cat'}\n"
     ]
    }
   ],
   "source": [
    "a = {}\n",
    "a['a'] = \"Apple\"\n",
    "a['b'] = \"Ball\"\n",
    "a['c'] = \"Cat\"\n",
    "print(a)"
   ]
  },
  {
   "cell_type": "code",
   "execution_count": 15,
   "metadata": {},
   "outputs": [
    {
     "name": "stdout",
     "output_type": "stream",
     "text": [
      "Enter n = 2\n",
      "Enter name = Ram\n",
      "Enter phone = 9856556543\n",
      "Enter name = Shyam\n",
      "Enter phone = 9808956543\n",
      "{'Ram': 9856556543, 'Shyam': 9808956543}\n"
     ]
    }
   ],
   "source": [
    "d = dict()\n",
    "n = int(input(\"Enter n = \"))\n",
    "for i in range(n):\n",
    "    name = input(\"Enter name = \")\n",
    "    phone = int(input(\"Enter phone = \"))\n",
    "    d[name] = phone\n",
    "    \n",
    "print(d)"
   ]
  },
  {
   "cell_type": "code",
   "execution_count": null,
   "metadata": {},
   "outputs": [],
   "source": [
    "# del pop()"
   ]
  },
  {
   "cell_type": "code",
   "execution_count": 17,
   "metadata": {},
   "outputs": [
    {
     "data": {
      "text/plain": [
       "{'Shyam': 9808956543}"
      ]
     },
     "execution_count": 17,
     "metadata": {},
     "output_type": "execute_result"
    }
   ],
   "source": [
    "a = {'Ram': 9856556543, 'Shyam': 9808956543}\n",
    "del a['Ram']\n",
    "print(a)"
   ]
  },
  {
   "cell_type": "code",
   "execution_count": 19,
   "metadata": {},
   "outputs": [
    {
     "name": "stdout",
     "output_type": "stream",
     "text": [
      "{'Shyam': 9808956543}\n",
      "9856556543\n"
     ]
    }
   ],
   "source": [
    "a = {'Ram': 9856556543, 'Shyam': 9808956543}\n",
    "b = a.pop('Ram')\n",
    "print(a)\n",
    "print(b)"
   ]
  },
  {
   "cell_type": "code",
   "execution_count": 21,
   "metadata": {},
   "outputs": [
    {
     "name": "stdout",
     "output_type": "stream",
     "text": [
      "{}\n"
     ]
    }
   ],
   "source": [
    "a = {'Ram': 9856556543, 'Shyam': 9808956543}\n",
    "a.clear()\n",
    "print(a)"
   ]
  },
  {
   "cell_type": "code",
   "execution_count": 22,
   "metadata": {},
   "outputs": [
    {
     "data": {
      "text/plain": [
       "{'Ram': 9856556543, 'Shyam': 9808956543, 'Hari': 9867667654}"
      ]
     },
     "execution_count": 22,
     "metadata": {},
     "output_type": "execute_result"
    }
   ],
   "source": [
    "a = {'Ram': 9856556543, 'Shyam': 9808956543}\n",
    "b = {'Hari':9867667654}\n",
    "a.update(b)\n",
    "print(a)"
   ]
  },
  {
   "cell_type": "code",
   "execution_count": 24,
   "metadata": {},
   "outputs": [
    {
     "name": "stdout",
     "output_type": "stream",
     "text": [
      "{'Ram': [9856556543, 9808667654], 'Shyam': [9808956543, 9808556543]}\n"
     ]
    }
   ],
   "source": [
    "# list inside dict\n",
    "a = {'Ram': [9856556543,9808667654],'Shyam': [9808956543,9808556543]}\n",
    "print(a)"
   ]
  },
  {
   "cell_type": "code",
   "execution_count": 26,
   "metadata": {},
   "outputs": [
    {
     "name": "stdout",
     "output_type": "stream",
     "text": [
      "Enter n = 2\n",
      "Enter name = Ram\n",
      "Enter ntc phone = 9867667654\n",
      "Enter ntc phone = 9808667654\n",
      "Enter name = Shyam\n",
      "Enter ntc phone = 987877865\n",
      "Enter ntc phone = 9808556544\n",
      "{'Ram': [9867667654, 9808667654], 'Shyam': [987877865, 9808556544]}\n"
     ]
    }
   ],
   "source": [
    "d = dict()\n",
    "n = int(input(\"Enter n = \"))\n",
    "for i in range(n):\n",
    "    name = input(\"Enter name = \")\n",
    "    ntc_phone = int(input(\"Enter ntc phone = \"))\n",
    "    ncell_phone = int(input(\"Enter ntc phone = \"))\n",
    "    d[name] = [ntc_phone,ncell_phone]\n",
    "    \n",
    "print(d)"
   ]
  },
  {
   "cell_type": "code",
   "execution_count": 27,
   "metadata": {},
   "outputs": [
    {
     "name": "stdout",
     "output_type": "stream",
     "text": [
      "Enter n = 2\n",
      "Enter name = Ram\n",
      "Enter age = 89\n",
      "Enter add = Kathmandu\n",
      "Enter name = Shyam\n",
      "Enter age = 45\n",
      "Enter add = Lalitpur\n",
      "{1: ['Ram', 89, 'Kathmandu'], 2: ['Shyam', 45, 'Lalitpur']}\n"
     ]
    }
   ],
   "source": [
    "d = dict()\n",
    "n = int(input(\"Enter n = \"))\n",
    "for i in range(1,n+1):\n",
    "    name = input(\"Enter name = \")\n",
    "    age = int(input(\"Enter age = \"))\n",
    "    add = input(\"Enter add = \")\n",
    "    d[i] = [name,age,add]\n",
    "    \n",
    "print(d)"
   ]
  },
  {
   "cell_type": "code",
   "execution_count": 28,
   "metadata": {},
   "outputs": [
    {
     "name": "stdout",
     "output_type": "stream",
     "text": [
      "Enter n = 2\n",
      "Enter name = Ra\n",
      "Enter age = 67\n",
      "Enter add = Kathmandu\n",
      "Enter name = Shyam\n",
      "Enter age = 67\n",
      "Enter add = Bhaktapur\n"
     ]
    }
   ],
   "source": [
    "# a = {\"Name\":[\"Ram\",\"Shyam\"],\"Age\":[34,56],\"Address\":[\"Kathmandu\",\"Bara\"]}\n",
    "na = []\n",
    "ag = []\n",
    "ad = []\n",
    "n = int(input(\"Enter n = \"))\n",
    "for i in range(1,n+1):\n",
    "    name = input(\"Enter name = \")\n",
    "    age = int(input(\"Enter age = \"))\n",
    "    add = input(\"Enter add = \")\n",
    "    na.append(name)\n",
    "    ag.append(age)\n",
    "    ad.append(add)\n",
    "    \n",
    "info = {'Name':na,\"Age\":ag,\"Address\":ad}"
   ]
  },
  {
   "cell_type": "code",
   "execution_count": 29,
   "metadata": {},
   "outputs": [
    {
     "name": "stdout",
     "output_type": "stream",
     "text": [
      "{'Name': ['Ra', 'Shyam'], 'Age': [67, 67], 'Address': ['Kathmandu', 'Bhaktapur']}\n"
     ]
    }
   ],
   "source": [
    "print(info)"
   ]
  },
  {
   "cell_type": "code",
   "execution_count": 32,
   "metadata": {},
   "outputs": [
    {
     "name": "stdout",
     "output_type": "stream",
     "text": [
      "('Ram', [9867667654, 9808667654])\n",
      "('Shyam', [987877865, 9808556544])\n"
     ]
    }
   ],
   "source": [
    "d = {'Ram': [9867667654, 9808667654], 'Shyam': [987877865, 9808556544]}\n",
    "for i in d.items():\n",
    "    print(i)"
   ]
  },
  {
   "cell_type": "code",
   "execution_count": 35,
   "metadata": {},
   "outputs": [
    {
     "name": "stdout",
     "output_type": "stream",
     "text": [
      "9867667654\n"
     ]
    }
   ],
   "source": [
    "print(d['Ram'][0])"
   ]
  },
  {
   "cell_type": "code",
   "execution_count": 36,
   "metadata": {},
   "outputs": [
    {
     "name": "stdout",
     "output_type": "stream",
     "text": [
      "{'Ram': [9841000000, 9808667654], 'Shyam': [987877865, 9808556544]}\n"
     ]
    }
   ],
   "source": [
    "d['Ram'][0] = 9841000000\n",
    "print(d)"
   ]
  },
  {
   "cell_type": "code",
   "execution_count": 37,
   "metadata": {},
   "outputs": [
    {
     "data": {
      "text/plain": [
       "{'Ram': [9840000000, 9808000000], 'Shyam': [987877865, 9808556544]}"
      ]
     },
     "execution_count": 37,
     "metadata": {},
     "output_type": "execute_result"
    }
   ],
   "source": [
    "d['Ram'] = [9840000000,9808000000]\n",
    "d"
   ]
  },
  {
   "cell_type": "code",
   "execution_count": 38,
   "metadata": {},
   "outputs": [
    {
     "data": {
      "text/plain": [
       "{'Ram': [9867667654, 9808667654, '014456554'],\n",
       " 'Shyam': [987877865, 9808556544]}"
      ]
     },
     "execution_count": 38,
     "metadata": {},
     "output_type": "execute_result"
    }
   ],
   "source": [
    "d = {'Ram': [9867667654, 9808667654], 'Shyam': [987877865, 9808556544]}\n",
    "d['Ram'].append('014456554')\n",
    "d"
   ]
  },
  {
   "cell_type": "code",
   "execution_count": 40,
   "metadata": {},
   "outputs": [
    {
     "data": {
      "text/plain": [
       "{'Ram': [9867667654, 9808667654],\n",
       " 'Shyam': [987877865, 9808556544],\n",
       " 'Hari': [9840000000, 9808777777]}"
      ]
     },
     "execution_count": 40,
     "metadata": {},
     "output_type": "execute_result"
    }
   ],
   "source": [
    "d = {'Ram': [9867667654, 9808667654], 'Shyam': [987877865, 9808556544]}\n",
    "d.update({'Hari':[9840000000,9808777777]})\n",
    "d"
   ]
  },
  {
   "cell_type": "code",
   "execution_count": 43,
   "metadata": {},
   "outputs": [
    {
     "data": {
      "text/plain": [
       "{'Name': ['Ram', 'Shyam', 'Hari'],\n",
       " 'Age': [34, 56, 45],\n",
       " 'Address': ['Kathmandu', 'Bara', 'Lalitpur']}"
      ]
     },
     "execution_count": 43,
     "metadata": {},
     "output_type": "execute_result"
    }
   ],
   "source": [
    "a = {\"Name\":[\"Ram\",\"Shyam\"],\"Age\":[34,56],\"Address\":[\"Kathmandu\",\"Bara\"]}\n",
    "a['Name'].append('Hari')\n",
    "a['Age'].append(45)\n",
    "a['Address'].append(\"Lalitpur\")\n",
    "a"
   ]
  },
  {
   "cell_type": "code",
   "execution_count": 44,
   "metadata": {},
   "outputs": [
    {
     "name": "stdout",
     "output_type": "stream",
     "text": [
      "Enter name = Ram\n"
     ]
    },
    {
     "data": {
      "text/plain": [
       "0"
      ]
     },
     "execution_count": 44,
     "metadata": {},
     "output_type": "execute_result"
    }
   ],
   "source": [
    "data = {'Name': ['Ram', 'Shyam', 'Hari'],\n",
    " 'Age': [34, 56, 45],\n",
    " 'Address': ['Kathmandu', 'Bara', 'Lalitpur']}\n",
    "\n",
    "name = input(\"Enter name = \")\n",
    "index = data['Name'].index(name)\n",
    "index"
   ]
  },
  {
   "cell_type": "code",
   "execution_count": 45,
   "metadata": {},
   "outputs": [
    {
     "data": {
      "text/plain": [
       "{'Name': ['Shyam', 'Hari'], 'Age': [56, 45], 'Address': ['Bara', 'Lalitpur']}"
      ]
     },
     "execution_count": 45,
     "metadata": {},
     "output_type": "execute_result"
    }
   ],
   "source": [
    "del data['Name'][index]\n",
    "del data['Age'][index]\n",
    "del data['Address'][index]\n",
    "data"
   ]
  },
  {
   "cell_type": "code",
   "execution_count": 1,
   "metadata": {},
   "outputs": [
    {
     "name": "stdout",
     "output_type": "stream",
     "text": [
      "Enter n = 2\n",
      "Enter value = 1\n",
      "Enter value = 2\n",
      "Enter n = 3\n",
      "Enter value = 3\n",
      "Enter value = 4\n",
      "Enter value = 5\n"
     ]
    }
   ],
   "source": [
    "def dict1():\n",
    "    d1= {}\n",
    "    n = int(input(\"Enter n = \"))\n",
    "    for i in range(n):\n",
    "        x = int(input(\"Enter value = \"))\n",
    "        d1[x] = x*x\n",
    "    return d1\n",
    "\n",
    "def dict2():\n",
    "    d2= {}\n",
    "    n = int(input(\"Enter n = \"))\n",
    "    for i in range(n):\n",
    "        x = int(input(\"Enter value = \"))\n",
    "        d2[x] = x*x\n",
    "    return d2\n",
    "\n",
    "\n",
    "x = dict1()\n",
    "y = dict2()\n",
    "x.update(y)"
   ]
  },
  {
   "cell_type": "code",
   "execution_count": 2,
   "metadata": {},
   "outputs": [
    {
     "name": "stdout",
     "output_type": "stream",
     "text": [
      "{1: 1, 2: 4, 3: 9, 4: 16, 5: 25}\n"
     ]
    }
   ],
   "source": [
    "print(x)"
   ]
  },
  {
   "cell_type": "code",
   "execution_count": 3,
   "metadata": {},
   "outputs": [
    {
     "data": {
      "text/plain": [
       "[{'Name': 'Ram', 'Age': 34, 'Address': 'Kathmandu'},\n",
       " {'Name': 'Shyam', 'Age': 44, 'Address': 'Lalitpur'},\n",
       " {'Name': 'Akash', 'Age': 67, 'Address': 'Bhaktapur'}]"
      ]
     },
     "execution_count": 3,
     "metadata": {},
     "output_type": "execute_result"
    }
   ],
   "source": [
    "# dict inside list\n",
    "a = [{'Name':'Ram','Age':34,'Address':'Kathmandu'},\n",
    "    {'Name':'Shyam','Age':44,'Address':'Lalitpur'},\n",
    "    {'Name':'Akash','Age':67,'Address':'Bhaktapur'}]\n",
    "a"
   ]
  },
  {
   "cell_type": "code",
   "execution_count": 4,
   "metadata": {},
   "outputs": [
    {
     "name": "stdout",
     "output_type": "stream",
     "text": [
      "Enter n = 2\n",
      "Enter name = Ram\n",
      "Enter age = 34\n",
      "Enter add = Kathmandu\n",
      "Enter name = Shyam\n",
      "Enter age = 23\n",
      "Enter add = Bhaktapur\n",
      "[{'Nam': 'Ram', 'Age': 34, 'Address': 'Kathmandu'}, {'Nam': 'Shyam', 'Age': 23, 'Address': 'Bhaktapur'}]\n"
     ]
    }
   ],
   "source": [
    "info = []\n",
    "n = int(input(\"Enter n = \"))\n",
    "for i in range(n):\n",
    "    name = input(\"Enter name = \")\n",
    "    age = int(input(\"Enter age = \"))\n",
    "    add = input(\"Enter add = \")\n",
    "    data = {'Nam':name,'Age':age,'Address':add}\n",
    "    info.append(data)\n",
    "    \n",
    "print(info)"
   ]
  },
  {
   "cell_type": "code",
   "execution_count": 8,
   "metadata": {},
   "outputs": [
    {
     "data": {
      "text/plain": [
       "[{'Nam': 'Ram', 'Age': 34, 'Address': 'Kathmandu', 'Phone': 986766654},\n",
       " {'Nam': 'Shyam', 'Age': 23, 'Address': 'Bhaktapur'}]"
      ]
     },
     "execution_count": 8,
     "metadata": {},
     "output_type": "execute_result"
    }
   ],
   "source": [
    "info[0]['Phone'] = 986766654\n",
    "info"
   ]
  },
  {
   "cell_type": "code",
   "execution_count": 11,
   "metadata": {},
   "outputs": [
    {
     "data": {
      "text/plain": [
       "[{'Nam': 'Ram Prasad',\n",
       "  'Age': 34,\n",
       "  'Address': 'Kathmandu',\n",
       "  'Phone': 'Name',\n",
       "  'Name': 'Ram Prasad'},\n",
       " {'Nam': 'Shyam', 'Age': 23, 'Address': 'Bhaktapur'}]"
      ]
     },
     "execution_count": 11,
     "metadata": {},
     "output_type": "execute_result"
    }
   ],
   "source": [
    "info[0]['Nam'] = \"Ram Prasad\"\n",
    "info"
   ]
  },
  {
   "cell_type": "code",
   "execution_count": 12,
   "metadata": {},
   "outputs": [
    {
     "data": {
      "text/plain": [
       "[{'Nam': 'Ram', 'Age': 34, 'Address': 'Kathmandu'},\n",
       " {'Nam': 'Shyam', 'Age': 23, 'Address': 'Bhaktapur'},\n",
       " {'Nam': 'Nabin', 'Age': 13, 'Address': 'Bhaktapur'}]"
      ]
     },
     "execution_count": 12,
     "metadata": {},
     "output_type": "execute_result"
    }
   ],
   "source": [
    "a = [{'Nam': 'Ram', 'Age': 34, 'Address': 'Kathmandu'}, \n",
    "     {'Nam': 'Shyam', 'Age': 23, 'Address': 'Bhaktapur'}]\n",
    "a.append({'Nam': 'Nabin', 'Age': 13, 'Address': 'Bhaktapur'})\n",
    "a"
   ]
  },
  {
   "cell_type": "code",
   "execution_count": 13,
   "metadata": {},
   "outputs": [
    {
     "data": {
      "text/plain": [
       "{1: {'Name': 'Ram', 'Age': 34, 'Address': 'Kathmandu'},\n",
       " 2: {'Name': 'Shyam', 'Age': 23, 'Address': 'Lalitpur'},\n",
       " 3: {'Name': 'Hari', 'Age': 53, 'Address': 'Bhaktapur'}}"
      ]
     },
     "execution_count": 13,
     "metadata": {},
     "output_type": "execute_result"
    }
   ],
   "source": [
    "# dict inside dict\n",
    "a = {1:{'Name':'Ram','Age':34,'Address':'Kathmandu'},\n",
    "    2:{'Name':'Shyam','Age':23,'Address':'Lalitpur'},\n",
    "    3:{'Name':'Hari','Age':53,'Address':'Bhaktapur'}}\n",
    "a"
   ]
  },
  {
   "cell_type": "code",
   "execution_count": 14,
   "metadata": {},
   "outputs": [
    {
     "data": {
      "text/plain": [
       "{1: {'Name': 'Ram', 'Age': 34, 'Address': 'Kathmandu'},\n",
       " 2: {'Name': 'Shyam', 'Age': 23, 'Address': 'Lalitpur'},\n",
       " 3: {'Name': 'Hari', 'Age': 53, 'Address': 'Bhaktapur'},\n",
       " 4: {'Name': 'Nabin', 'Age': 56, 'Address': 'Bara'}}"
      ]
     },
     "execution_count": 14,
     "metadata": {},
     "output_type": "execute_result"
    }
   ],
   "source": [
    "a[4] = {'Name': 'Nabin', 'Age': 56, 'Address': 'Bara'}\n",
    "a"
   ]
  },
  {
   "cell_type": "code",
   "execution_count": 15,
   "metadata": {},
   "outputs": [
    {
     "data": {
      "text/plain": [
       "{1: {'Name': 'Ram', 'Age': 34, 'Address': 'Kathmandu', 'Phone': 9867667654},\n",
       " 2: {'Name': 'Shyam', 'Age': 23, 'Address': 'Lalitpur', 'Phone': 9866765454},\n",
       " 3: {'Name': 'Hari', 'Age': 53, 'Address': 'Bhaktapur', 'Phone': 9844543223},\n",
       " 4: {'Name': 'Nabin', 'Age': 56, 'Address': 'Bara', 'Phone': 9889778765}}"
      ]
     },
     "execution_count": 15,
     "metadata": {},
     "output_type": "execute_result"
    }
   ],
   "source": [
    "a[1]['Phone'] = 9867667654\n",
    "a[2]['Phone'] = 9866765454\n",
    "a[3]['Phone'] = 9844543223\n",
    "a[4]['Phone'] = 9889778765\n",
    "a"
   ]
  },
  {
   "cell_type": "code",
   "execution_count": 18,
   "metadata": {},
   "outputs": [
    {
     "data": {
      "text/plain": [
       "{1: {'Name': 'Ram', 'Age': 34, 'Address': 'Kathmandu'},\n",
       " 2: {'Name': 'Shyam', 'Age': 23, 'Address': 'Lalitpur', 'Phone': 9866765454},\n",
       " 3: {'Name': 'Hari', 'Age': 53, 'Address': 'Bhaktapur', 'Phone': 9844543223},\n",
       " 4: {'Name': 'Nabin', 'Age': 56, 'Address': 'Bara', 'Phone': 9889778765}}"
      ]
     },
     "execution_count": 18,
     "metadata": {},
     "output_type": "execute_result"
    }
   ],
   "source": [
    "del a[1]['Phone']\n",
    "a"
   ]
  },
  {
   "cell_type": "code",
   "execution_count": 19,
   "metadata": {},
   "outputs": [
    {
     "data": {
      "text/plain": [
       "{2: {'Name': 'Shyam', 'Age': 23, 'Address': 'Lalitpur', 'Phone': 9866765454},\n",
       " 3: {'Name': 'Hari', 'Age': 53, 'Address': 'Bhaktapur', 'Phone': 9844543223},\n",
       " 4: {'Name': 'Nabin', 'Age': 56, 'Address': 'Bara', 'Phone': 9889778765}}"
      ]
     },
     "execution_count": 19,
     "metadata": {},
     "output_type": "execute_result"
    }
   ],
   "source": [
    "del a[1]\n",
    "a"
   ]
  },
  {
   "cell_type": "code",
   "execution_count": 20,
   "metadata": {},
   "outputs": [
    {
     "name": "stdout",
     "output_type": "stream",
     "text": [
      "Enter n = 2\n",
      "Enter name = Ram\n",
      "Enter age = 34\n",
      "Enter add = Kathmandu\n",
      "Enter name = Shyam\n",
      "Enter age = 45\n",
      "Enter add = Lalitpur\n",
      "{1: {'Nam': 'Ram', 'Age': 34, 'Address': 'Kathmandu'}, 2: {'Nam': 'Shyam', 'Age': 45, 'Address': 'Lalitpur'}}\n"
     ]
    }
   ],
   "source": [
    "# WAP to create dict inside dict\n",
    "info = {}\n",
    "n = int(input(\"Enter n = \"))\n",
    "for i in range(1,n+1):\n",
    "    name = input(\"Enter name = \")\n",
    "    age = int(input(\"Enter age = \"))\n",
    "    add = input(\"Enter add = \")\n",
    "    data = {'Nam':name,'Age':age,'Address':add}\n",
    "    info[i] = data\n",
    "    \n",
    "print(info)"
   ]
  },
  {
   "cell_type": "code",
   "execution_count": null,
   "metadata": {},
   "outputs": [],
   "source": []
  }
 ],
 "metadata": {
  "kernelspec": {
   "display_name": "Python 3 (ipykernel)",
   "language": "python",
   "name": "python3"
  },
  "language_info": {
   "codemirror_mode": {
    "name": "ipython",
    "version": 3
   },
   "file_extension": ".py",
   "mimetype": "text/x-python",
   "name": "python",
   "nbconvert_exporter": "python",
   "pygments_lexer": "ipython3",
   "version": "3.7.1"
  }
 },
 "nbformat": 4,
 "nbformat_minor": 2
}
