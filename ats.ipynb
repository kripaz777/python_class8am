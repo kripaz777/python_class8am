{
 "cells": [
  {
   "cell_type": "code",
   "execution_count": 15,
   "metadata": {},
   "outputs": [
    {
     "name": "stdout",
     "output_type": "stream",
     "text": [
      "[{'category': 'Custom', 'label': 'Programming', 'value': 'Programming'}]\n",
      "[{'category': 'Custom', 'label': 'Programming', 'value': 'Programming'}]\n",
      "[{'category': 'Custom', 'label': 'Programming', 'value': 'Programming'}]\n",
      "[{'category': 'Custom', 'label': 'Programming', 'value': 'Programming'}]\n",
      "[{'category': 'Custom', 'label': 'Programming', 'value': 'Programming'}]\n",
      "[{'category': 'Custom', 'label': 'Programming', 'value': 'Programming'}]\n",
      "[{'category': 'Custom', 'label': 'Programming', 'value': 'Programming'}]\n",
      "[{'category': 'Custom', 'label': 'Programming', 'value': 'Programming'}]\n",
      "[{'category': 'Custom', 'label': 'Programming', 'value': 'Programming'}]\n",
      "[{'category': 'Custom', 'label': 'Programming', 'value': 'Programming'}]\n"
     ]
    }
   ],
   "source": [
    "import os\n",
    "import requests\n",
    "\n",
    "def get_droplets():\n",
    "    url = 'https://zjbeaem3nm.us-east-1.awsapprunner.com/api/v2/jobs'\n",
    "    r = requests.get(url,headers={'AI-Token':'2ddf98f8-97e8-4170-89a6-c131e50e0d8a'})\n",
    "    droplets = r.json()['data']\n",
    "    list_jobs=list()\n",
    "    Skills = ['Python programming language', 'Python,', 'Javascript,', 'Html & CSS', 'C,', 'Flask', 'Pandas', 'Numpy,', 'Selenium,', 'BeautifulSoup,', 'FastApi', 'Jquery']\n",
    "\n",
    "    for i in droplets:\n",
    "        if isinstance(i['skills'], list):\n",
    "            print(i['skills'])\n",
    "    # return i['skills']\n",
    "    \n",
    "get_droplets()\n",
    "# print(data)"
   ]
  },
  {
   "cell_type": "code",
   "execution_count": 26,
   "metadata": {},
   "outputs": [
    {
     "name": "stdout",
     "output_type": "stream",
     "text": [
      "[{'category': 'Custom', 'label': 'Programming', 'value': 'Programming'}]\n",
      "0.0\n",
      "[{'category': 'Custom', 'label': 'Programming', 'value': 'Programming'}]\n",
      "0.0\n",
      "[{'category': 'Custom', 'label': 'Programming', 'value': 'Programming'}]\n",
      "0.0\n",
      "[{'category': 'Custom', 'label': 'Programming', 'value': 'Programming'}]\n",
      "0.0\n",
      "[{'category': 'Custom', 'label': 'Programming', 'value': 'Programming'}]\n",
      "0.0\n",
      "[{'category': 'Custom', 'label': 'Programming', 'value': 'Programming'}]\n",
      "0.0\n",
      "[{'category': 'Custom', 'label': 'Programming', 'value': 'Programming'}]\n",
      "0.0\n",
      "[{'category': 'Custom', 'label': 'Programming', 'value': 'Programming'}]\n",
      "0.0\n",
      "[{'category': 'Custom', 'label': 'Programming', 'value': 'Programming'}]\n",
      "0.0\n",
      "[{'category': 'Custom', 'label': 'Programming', 'value': 'Programming'}]\n",
      "0.0\n"
     ]
    }
   ],
   "source": [
    "import os\n",
    "import requests\n",
    "\n",
    "def get_droplets():\n",
    "    url = 'https://zjbeaem3nm.us-east-1.awsapprunner.com/api/v2/jobs'\n",
    "    r = requests.get(url,headers={'AI-Token':'2ddf98f8-97e8-4170-89a6-c131e50e0d8a'})\n",
    "    droplets = r.json()['data']\n",
    "    list_jobs=list()\n",
    "    Skills = ['Programming', 'Python,', 'Javascript,', 'Html & CSS', 'C,', 'Flask', 'Pandas', 'Numpy,', 'Selenium,', 'BeautifulSoup,', 'FastApi', 'Jquery']\n",
    "    for i in droplets:\n",
    "        print(i['skills'])\n",
    "        if isinstance(i['skills'], list):\n",
    "            for j in i['skills']:\n",
    "#                 print(j['label'])\n",
    "#                 res = len(set(Skills) & set(j['label'])) / float(len(set(Skills) | set(j['label']))) * 100\n",
    "                res = len((set(Skills).intersection(set(j['label']))))/len((set(Skills).union(set(j['label']))))*100\n",
    "                print(res)\n",
    "    # return i['skills']\n",
    "    \n",
    "    \n",
    "get_droplets()\n",
    "# print(data)"
   ]
  },
  {
   "cell_type": "code",
   "execution_count": 16,
   "metadata": {},
   "outputs": [
    {
     "data": {
      "text/plain": [
       "[{'Skills': [{'category': 'Custom',\n",
       "    'label': 'Programming',\n",
       "    'value': 'Programming'}],\n",
       "  'Description': 'Question along forget. Us hear seek friend stage since option.',\n",
       "  'Responsbility': 'Production organization worry apply large where. Oil ability itself note however west number. Western high doctor century.',\n",
       "  'Id': '622886938b39d0ce45043579'},\n",
       " {'Skills': [{'category': 'Custom',\n",
       "    'label': 'Programming',\n",
       "    'value': 'Programming'}],\n",
       "  'Description': 'Official news only phone continue process understand. Thing or peace improve someone successful read.',\n",
       "  'Responsbility': 'Might parent even all add five far. Yeah interesting art central soldier approach. Mr town loss officer place.',\n",
       "  'Id': '622886928b39d0ce45043578'},\n",
       " {'Skills': [{'category': 'Custom',\n",
       "    'label': 'Programming',\n",
       "    'value': 'Programming'}],\n",
       "  'Description': 'Beat low result region. Training suggest light between ahead. Ability boy western really.',\n",
       "  'Responsbility': 'Common activity standard someone dog artist. Tend recent environmental indeed increase goal seat.',\n",
       "  'Id': '622886928b39d0ce45043577'},\n",
       " {'Skills': [{'category': 'Custom',\n",
       "    'label': 'Programming',\n",
       "    'value': 'Programming'}],\n",
       "  'Description': 'Whatever outside form bar ability discover move. Same anyone dinner relationship.',\n",
       "  'Responsbility': 'Fast glass week. However at type product finally source majority.',\n",
       "  'Id': '622886918b39d0ce45043576'},\n",
       " {'Skills': [{'category': 'Custom',\n",
       "    'label': 'Programming',\n",
       "    'value': 'Programming'}],\n",
       "  'Description': 'At admit meeting road process need city.',\n",
       "  'Responsbility': 'Special method other move energy unit own. Herself investment month make. Year drop discover miss beautiful poor.',\n",
       "  'Id': '622886918b39d0ce45043575'},\n",
       " {'Skills': [{'category': 'Custom',\n",
       "    'label': 'Programming',\n",
       "    'value': 'Programming'}],\n",
       "  'Description': 'Answer brother town relate different story of. Include value country within.',\n",
       "  'Responsbility': 'Effect activity room. Happen determine carry among lead. Approach young tax candidate.',\n",
       "  'Id': '622886918b39d0ce45043574'},\n",
       " {'Skills': [{'category': 'Custom',\n",
       "    'label': 'Programming',\n",
       "    'value': 'Programming'}],\n",
       "  'Description': 'Tonight mother alone garden part expert. Prepare others high good.',\n",
       "  'Responsbility': 'Day eight policy go fear here. Country bar blood animal near let since. Serve model the toward less.',\n",
       "  'Id': '622886908b39d0ce45043573'},\n",
       " {'Skills': [{'category': 'Custom',\n",
       "    'label': 'Programming',\n",
       "    'value': 'Programming'}],\n",
       "  'Description': 'Goal do sometimes nice almost. Together meet loss laugh lay.',\n",
       "  'Responsbility': 'Body bad quickly certain bad window. Court significant open actually. Everyone cell carry.',\n",
       "  'Id': '622886908b39d0ce45043572'},\n",
       " {'Skills': [{'category': 'Custom',\n",
       "    'label': 'Programming',\n",
       "    'value': 'Programming'}],\n",
       "  'Description': 'Develop if bag and this. Across give nearly cultural.',\n",
       "  'Responsbility': 'Of play record concern then. Specific policy financial occur statement small sing. Whom state color late beyond. Word financial treat as little.',\n",
       "  'Id': '622886908b39d0ce45043571'},\n",
       " {'Skills': [{'category': 'Custom',\n",
       "    'label': 'Programming',\n",
       "    'value': 'Programming'}],\n",
       "  'Description': 'Budget million customer security war water. Bill nothing mother pick theory. After always vote popular firm.',\n",
       "  'Responsbility': 'Away society suggest we pattern.',\n",
       "  'Id': '6228868f8b39d0ce45043570'}]"
      ]
     },
     "execution_count": 16,
     "metadata": {},
     "output_type": "execute_result"
    }
   ],
   "source": [
    "import os\n",
    "import requests\n",
    "\n",
    "def get_droplets():\n",
    "    url = 'https://zjbeaem3nm.us-east-1.awsapprunner.com/api/v2/jobs'\n",
    "    r = requests.get(url,headers={'AI-Token':'2ddf98f8-97e8-4170-89a6-c131e50e0d8a'})\n",
    "    droplets = r.json()['data']\n",
    "    list_jobs=list()\n",
    "    for i in droplets:\n",
    "      try:\n",
    "        new_data = {}\n",
    "        new_data['Skills'] = i['skills']\n",
    "        new_data['Description'] = i['description']\n",
    "        new_data['Responsbility'] = i['responsibilities']\n",
    "        new_data['Id'] = i['id']\n",
    "      except:\n",
    "        pass\n",
    "      \n",
    "      list_jobs.append(new_data)\n",
    "    return list_jobs\n",
    "    \n",
    "data = get_droplets()\n",
    "data"
   ]
  },
  {
   "cell_type": "code",
   "execution_count": 31,
   "metadata": {},
   "outputs": [
    {
     "name": "stdout",
     "output_type": "stream",
     "text": [
      "{'benefits': 'Perhaps raise company what final series research. Four recently imagine thought remain six memory reflect. Season arrive perform seek part. Bar right research true size.', 'company': {'bio': 'This is bio', 'contact': '129.381.2815x1815', 'creator': {'bio': 'This is my bio', 'company_id': '6228866b8b39d0ce45043515', 'created_at': '1646802315.488012', 'education': [{'degree': 'General practice doctor', 'end': 1646802315.48801, 'institute': 'Kim Ltd', 'start': 1646802315.488007}], 'email': 'recruiter@gmail.com', 'experience': [{'end': 1646802315.487767, 'institute': 'Cole Inc', 'position': 'Ship broker', 'start': 1646802315.48776}], 'fullname': 'Jason Brown', 'id': '622886678b39d0ce45043510', 'is_deleted': False, 'is_disabled': False, 'is_private': False, 'is_verified': True, 'location': {'address': 'South Diane', 'lat': '29.635325', 'lng': '53.079166'}, 'permissions': [], 'phone': '(510)290-7469', 'role': 'recruiter', 'skills': [{'category': 'Custom', 'label': 'Programming', 'value': 'Programming'}], 'updated_at': '1646802315.488018'}, 'founded_at': '2022-03-08', 'id': '6228866b8b39d0ce45043515', 'location': {'address': 'Lake Sheilatown', 'lat': '60.6572035', 'lng': '-54.115917'}, 'mailing': '0441 Patterson Circle Suite 635\\r\\nScottton, IA 03525', 'name': 'Santiago, Parsons and Baxter', 'size': '5896', 'user_id': '622886678b39d0ce45043510', 'website': 'http://richardson.com/'}, 'company_id': '6228866b8b39d0ce45043515', 'created_at': '1646802359.194069', 'description': 'Question along forget. Us hear seek friend stage since option.', 'id': '622886938b39d0ce45043579', 'is_deleted': 'true', 'is_disabled': False, 'is_private': False, 'location': {'address': 'Port Drew', 'lat': '-71.338548', 'lng': '-6.310507'}, 'name': 'Insurance broker', 'openings': '9000', 'responsibilities': 'Production organization worry apply large where. Oil ability itself note however west number. Western high doctor century.', 'salary': {'max': '100k', 'min': '50k'}, 'skills': [{'category': 'Custom', 'label': 'Programming', 'value': 'Programming'}], 'status': 'open', 'updated_at': 1646805909.81443, 'user_id': '622886678b39d0ce45043510', 'vacancy_close': '1646802359.194062', 'vacancy_open': '1646802359.194042'}\n",
      "20\n"
     ]
    }
   ],
   "source": [
    "import os\n",
    "import requests\n",
    "\n",
    "def get_droplets():\n",
    "    url = 'https://zjbeaem3nm.us-east-1.awsapprunner.com/api/v2/jobs'\n",
    "    r = requests.get(url,headers={'AI-Token':'2ddf98f8-97e8-4170-89a6-c131e50e0d8a'})\n",
    "    droplets = r.json()\n",
    "    # for i in droplets['data'][0].items():\n",
    "    #   print(i)\n",
    "    print(droplets['data'][0])\n",
    "    return droplets['data'][0]\n",
    "    \n",
    "data = get_droplets()\n",
    "print(len(data))\n",
    "# print(data['skills'])\n",
    "# for i in data.values():\n",
    "#   print(i)\n"
   ]
  },
  {
   "cell_type": "code",
   "execution_count": 34,
   "metadata": {},
   "outputs": [
    {
     "name": "stdout",
     "output_type": "stream",
     "text": [
      "{'category': 'Custom', 'label': 'Programming', 'value': 'Programming'}\n",
      "{'category': 'Custom', 'label': 'Programming', 'value': 'Programming'}\n",
      "{'category': 'Custom', 'label': 'Programming', 'value': 'Programming'}\n",
      "{'category': 'Custom', 'label': 'Programming', 'value': 'Programming'}\n",
      "{'category': 'Custom', 'label': 'Programming', 'value': 'Programming'}\n",
      "{'category': 'Custom', 'label': 'Programming', 'value': 'Programming'}\n",
      "{'category': 'Custom', 'label': 'Programming', 'value': 'Programming'}\n",
      "{'category': 'Custom', 'label': 'Programming', 'value': 'Programming'}\n",
      "{'category': 'Custom', 'label': 'Programming', 'value': 'Programming'}\n",
      "{'category': 'Custom', 'label': 'Programming', 'value': 'Programming'}\n",
      "10\n"
     ]
    }
   ],
   "source": [
    "import os\n",
    "import requests\n",
    "\n",
    "def get_droplets():\n",
    "    url = 'https://zjbeaem3nm.us-east-1.awsapprunner.com/api/v2/jobs'\n",
    "    r = requests.get(url,headers={'AI-Token':'2ddf98f8-97e8-4170-89a6-c131e50e0d8a'})\n",
    "    droplets = r.json()['data']\n",
    "    list_jobs=list()\n",
    "    global c\n",
    "    c = 0\n",
    "    Skills = ['Programming', 'Python,', 'Javascript,', 'Html & CSS', 'C,', 'Flask', 'Pandas', 'Numpy,', 'Selenium,', 'BeautifulSoup,', 'FastApi', 'Jquery']\n",
    "    for i in droplets:\n",
    "        if isinstance(i['skills'], list):\n",
    "            for j in i['skills']:\n",
    "#                 print(j['label'])\n",
    "#                 res = len(set(Skills) & set(j['label'])) / float(len(set(Skills) | set(j['label']))) * 100\n",
    "#                 res = len((set(Skills).intersection(set(j['label']))))/len((set(Skills).union(set(j['label']))))*100\n",
    "                print(j)\n",
    "        c = c+1\n",
    "    # return i['skills']\n",
    "    \n",
    "    \n",
    "get_droplets()\n",
    "print(c)\n",
    "# print(data)"
   ]
  },
  {
   "cell_type": "code",
   "execution_count": 41,
   "metadata": {},
   "outputs": [
    {
     "name": "stdout",
     "output_type": "stream",
     "text": [
      "[{'benefits': 'Perhaps raise company what final series research. Four recently imagine thought remain six memory reflect. Season arrive perform seek part. Bar right research true size.', 'company': {'bio': 'This is bio', 'contact': '129.381.2815x1815', 'creator': {'bio': 'This is my bio', 'company_id': '6228866b8b39d0ce45043515', 'created_at': '1646802315.488012', 'education': [{'degree': 'General practice doctor', 'end': 1646802315.48801, 'institute': 'Kim Ltd', 'start': 1646802315.488007}], 'email': 'recruiter@gmail.com', 'experience': [{'end': 1646802315.487767, 'institute': 'Cole Inc', 'position': 'Ship broker', 'start': 1646802315.48776}], 'fullname': 'Jason Brown', 'id': '622886678b39d0ce45043510', 'is_deleted': False, 'is_disabled': False, 'is_private': False, 'is_verified': True, 'location': {'address': 'South Diane', 'lat': '29.635325', 'lng': '53.079166'}, 'permissions': [], 'phone': '(510)290-7469', 'role': 'recruiter', 'skills': [{'category': 'Custom', 'label': 'Programming', 'value': 'Programming'}], 'updated_at': '1646802315.488018'}, 'founded_at': '2022-03-08', 'id': '6228866b8b39d0ce45043515', 'location': {'address': 'Lake Sheilatown', 'lat': '60.6572035', 'lng': '-54.115917'}, 'mailing': '0441 Patterson Circle Suite 635\\r\\nScottton, IA 03525', 'name': 'Santiago, Parsons and Baxter', 'size': '5896', 'user_id': '622886678b39d0ce45043510', 'website': 'http://richardson.com/'}, 'company_id': '6228866b8b39d0ce45043515', 'created_at': '1646802359.194069', 'description': 'Question along forget. Us hear seek friend stage since option.', 'id': '622886938b39d0ce45043579', 'is_deleted': 'true', 'is_disabled': False, 'is_private': False, 'location': {'address': 'Port Drew', 'lat': '-71.338548', 'lng': '-6.310507'}, 'name': 'Insurance broker', 'openings': '9000', 'responsibilities': 'Production organization worry apply large where. Oil ability itself note however west number. Western high doctor century.', 'salary': {'max': '100k', 'min': '50k'}, 'skills': [{'category': 'Custom', 'label': 'Programming', 'value': 'Programming'}], 'status': 'open', 'updated_at': 1646805909.81443, 'user_id': '622886678b39d0ce45043510', 'vacancy_close': '1646802359.194062', 'vacancy_open': '1646802359.194042', 'match': 8}, {'benefits': 'Add least guess loss base model certain. Hope read beyond blue talk agency.', 'company': {'bio': 'This is bio', 'contact': '129.381.2815x1815', 'creator': {'bio': 'This is my bio', 'company_id': '6228866b8b39d0ce45043515', 'created_at': '1646802315.488012', 'education': [{'degree': 'General practice doctor', 'end': 1646802315.48801, 'institute': 'Kim Ltd', 'start': 1646802315.488007}], 'email': 'recruiter@gmail.com', 'experience': [{'end': 1646802315.487767, 'institute': 'Cole Inc', 'position': 'Ship broker', 'start': 1646802315.48776}], 'fullname': 'Jason Brown', 'id': '622886678b39d0ce45043510', 'is_deleted': False, 'is_disabled': False, 'is_private': False, 'is_verified': True, 'location': {'address': 'South Diane', 'lat': '29.635325', 'lng': '53.079166'}, 'permissions': [], 'phone': '(510)290-7469', 'role': 'recruiter', 'skills': [{'category': 'Custom', 'label': 'Programming', 'value': 'Programming'}], 'updated_at': '1646802315.488018'}, 'founded_at': '2022-03-08', 'id': '6228866b8b39d0ce45043515', 'location': {'address': 'Lake Sheilatown', 'lat': '60.6572035', 'lng': '-54.115917'}, 'mailing': '0441 Patterson Circle Suite 635\\r\\nScottton, IA 03525', 'name': 'Santiago, Parsons and Baxter', 'size': '5896', 'user_id': '622886678b39d0ce45043510', 'website': 'http://richardson.com/'}, 'company_id': '6228866b8b39d0ce45043515', 'created_at': '1646802358.784928', 'description': 'Official news only phone continue process understand. Thing or peace improve someone successful read.', 'id': '622886928b39d0ce45043578', 'is_deleted': 'true', 'is_disabled': False, 'is_private': False, 'location': {'address': 'Brianstad', 'lat': '-45.631652', 'lng': '167.751335'}, 'name': 'Retail merchandiser', 'openings': '3258', 'responsibilities': 'Might parent even all add five far. Yeah interesting art central soldier approach. Mr town loss officer place.', 'salary': {'max': '100k', 'min': '50k'}, 'skills': [{'category': 'Custom', 'label': 'Programming', 'value': 'Programming'}], 'status': 'closed', 'updated_at': 1646806055.671398, 'user_id': '622886678b39d0ce45043510', 'vacancy_close': '1646802358.784921', 'vacancy_open': '1646802358.784902', 'match': 8}, {'benefits': 'Piece top can story. Benefit three today third sit glass summer Mr. Movie police receive seem six election already.', 'company': {'bio': 'This is bio', 'contact': '129.381.2815x1815', 'creator': {'bio': 'This is my bio', 'company_id': '6228866b8b39d0ce45043515', 'created_at': '1646802315.488012', 'education': [{'degree': 'General practice doctor', 'end': 1646802315.48801, 'institute': 'Kim Ltd', 'start': 1646802315.488007}], 'email': 'recruiter@gmail.com', 'experience': [{'end': 1646802315.487767, 'institute': 'Cole Inc', 'position': 'Ship broker', 'start': 1646802315.48776}], 'fullname': 'Jason Brown', 'id': '622886678b39d0ce45043510', 'is_deleted': False, 'is_disabled': False, 'is_private': False, 'is_verified': True, 'location': {'address': 'South Diane', 'lat': '29.635325', 'lng': '53.079166'}, 'permissions': [], 'phone': '(510)290-7469', 'role': 'recruiter', 'skills': [{'category': 'Custom', 'label': 'Programming', 'value': 'Programming'}], 'updated_at': '1646802315.488018'}, 'founded_at': '2022-03-08', 'id': '6228866b8b39d0ce45043515', 'location': {'address': 'Lake Sheilatown', 'lat': '60.6572035', 'lng': '-54.115917'}, 'mailing': '0441 Patterson Circle Suite 635\\r\\nScottton, IA 03525', 'name': 'Santiago, Parsons and Baxter', 'size': '5896', 'user_id': '622886678b39d0ce45043510', 'website': 'http://richardson.com/'}, 'company_id': '6228866b8b39d0ce45043515', 'created_at': '1646802358.375479', 'description': 'Beat low result region. Training suggest light between ahead. Ability boy western really.', 'id': '622886928b39d0ce45043577', 'is_deleted': 'true', 'is_disabled': False, 'is_private': False, 'location': {'address': 'Herringville', 'lat': '-7.006673', 'lng': '53.154969'}, 'name': 'Insurance claims handler', 'openings': '5748', 'responsibilities': 'Common activity standard someone dog artist. Tend recent environmental indeed increase goal seat.', 'salary': {'max': '100k', 'min': '50k'}, 'skills': [{'category': 'Custom', 'label': 'Programming', 'value': 'Programming'}], 'status': 'draft', 'updated_at': 1646806206.048237, 'user_id': '622886678b39d0ce45043510', 'vacancy_close': '1646802358.375471', 'vacancy_open': '1646802358.375453', 'match': 8}, {'benefits': 'Event go agency player hot. Bring its including middle turn condition. Movement claim nice age indicate nation.', 'company': {'bio': 'This is bio', 'contact': '129.381.2815x1815', 'creator': {'bio': 'This is my bio', 'company_id': '6228866b8b39d0ce45043515', 'created_at': '1646802315.488012', 'education': [{'degree': 'General practice doctor', 'end': 1646802315.48801, 'institute': 'Kim Ltd', 'start': 1646802315.488007}], 'email': 'recruiter@gmail.com', 'experience': [{'end': 1646802315.487767, 'institute': 'Cole Inc', 'position': 'Ship broker', 'start': 1646802315.48776}], 'fullname': 'Jason Brown', 'id': '622886678b39d0ce45043510', 'is_deleted': False, 'is_disabled': False, 'is_private': False, 'is_verified': True, 'location': {'address': 'South Diane', 'lat': '29.635325', 'lng': '53.079166'}, 'permissions': [], 'phone': '(510)290-7469', 'role': 'recruiter', 'skills': [{'category': 'Custom', 'label': 'Programming', 'value': 'Programming'}], 'updated_at': '1646802315.488018'}, 'founded_at': '2022-03-08', 'id': '6228866b8b39d0ce45043515', 'location': {'address': 'Lake Sheilatown', 'lat': '60.6572035', 'lng': '-54.115917'}, 'mailing': '0441 Patterson Circle Suite 635\\r\\nScottton, IA 03525', 'name': 'Santiago, Parsons and Baxter', 'size': '5896', 'user_id': '622886678b39d0ce45043510', 'website': 'http://richardson.com/'}, 'company_id': '6228866b8b39d0ce45043515', 'created_at': '1646802357.965749', 'description': 'Whatever outside form bar ability discover move. Same anyone dinner relationship.', 'id': '622886918b39d0ce45043576', 'is_deleted': False, 'is_disabled': False, 'is_private': False, 'location': {'address': 'Port Ginaside', 'lat': '-63.9366305', 'lng': '105.038780'}, 'name': 'Astronomer', 'openings': '3456', 'responsibilities': 'Fast glass week. However at type product finally source majority.', 'salary': {'max': '100k', 'min': '50k'}, 'skills': [{'category': 'Custom', 'label': 'Programming', 'value': 'Programming'}], 'status': 'closed', 'updated_at': 1646806370.881818, 'user_id': '622886678b39d0ce45043510', 'vacancy_close': '1646802357.965742', 'vacancy_open': '1646802357.965723', 'match': 8}, {'benefits': 'Sell add many cover give animal.', 'company': {'bio': 'This is bio', 'contact': '129.381.2815x1815', 'creator': {'bio': 'This is my bio', 'company_id': '6228866b8b39d0ce45043515', 'created_at': '1646802315.488012', 'education': [{'degree': 'General practice doctor', 'end': 1646802315.48801, 'institute': 'Kim Ltd', 'start': 1646802315.488007}], 'email': 'recruiter@gmail.com', 'experience': [{'end': 1646802315.487767, 'institute': 'Cole Inc', 'position': 'Ship broker', 'start': 1646802315.48776}], 'fullname': 'Jason Brown', 'id': '622886678b39d0ce45043510', 'is_deleted': False, 'is_disabled': False, 'is_private': False, 'is_verified': True, 'location': {'address': 'South Diane', 'lat': '29.635325', 'lng': '53.079166'}, 'permissions': [], 'phone': '(510)290-7469', 'role': 'recruiter', 'skills': [{'category': 'Custom', 'label': 'Programming', 'value': 'Programming'}], 'updated_at': '1646802315.488018'}, 'founded_at': '2022-03-08', 'id': '6228866b8b39d0ce45043515', 'location': {'address': 'Lake Sheilatown', 'lat': '60.6572035', 'lng': '-54.115917'}, 'mailing': '0441 Patterson Circle Suite 635\\r\\nScottton, IA 03525', 'name': 'Santiago, Parsons and Baxter', 'size': '5896', 'user_id': '622886678b39d0ce45043510', 'website': 'http://richardson.com/'}, 'company_id': '6228866b8b39d0ce45043515', 'created_at': '1646802357.556324', 'description': 'At admit meeting road process need city.', 'id': '622886918b39d0ce45043575', 'is_deleted': False, 'is_disabled': False, 'is_private': False, 'location': {'address': 'Kingstad', 'lat': '60.5374375', 'lng': '-138.258197'}, 'name': 'Programmer, applications', 'openings': '8356', 'responsibilities': 'Special method other move energy unit own. Herself investment month make. Year drop discover miss beautiful poor.', 'salary': {'max': '100k', 'min': '50k'}, 'skills': [{'category': 'Custom', 'label': 'Programming', 'value': 'Programming'}], 'status': 'open', 'updated_at': '1646802357.556329', 'user_id': '622886678b39d0ce45043510', 'vacancy_close': '1646802357.556317', 'vacancy_open': '1646802357.556298', 'match': 8}, {'benefits': 'Of maintain magazine fire. Beautiful material all forget show find. Open level can network wind newspaper hit.', 'company': {'bio': 'This is bio', 'contact': '129.381.2815x1815', 'creator': {'bio': 'This is my bio', 'company_id': '6228866b8b39d0ce45043515', 'created_at': '1646802315.488012', 'education': [{'degree': 'General practice doctor', 'end': 1646802315.48801, 'institute': 'Kim Ltd', 'start': 1646802315.488007}], 'email': 'recruiter@gmail.com', 'experience': [{'end': 1646802315.487767, 'institute': 'Cole Inc', 'position': 'Ship broker', 'start': 1646802315.48776}], 'fullname': 'Jason Brown', 'id': '622886678b39d0ce45043510', 'is_deleted': False, 'is_disabled': False, 'is_private': False, 'is_verified': True, 'location': {'address': 'South Diane', 'lat': '29.635325', 'lng': '53.079166'}, 'permissions': [], 'phone': '(510)290-7469', 'role': 'recruiter', 'skills': [{'category': 'Custom', 'label': 'Programming', 'value': 'Programming'}], 'updated_at': '1646802315.488018'}, 'founded_at': '2022-03-08', 'id': '6228866b8b39d0ce45043515', 'location': {'address': 'Lake Sheilatown', 'lat': '60.6572035', 'lng': '-54.115917'}, 'mailing': '0441 Patterson Circle Suite 635\\r\\nScottton, IA 03525', 'name': 'Santiago, Parsons and Baxter', 'size': '5896', 'user_id': '622886678b39d0ce45043510', 'website': 'http://richardson.com/'}, 'company_id': '6228866b8b39d0ce45043515', 'created_at': '1646802357.162794', 'description': 'Answer brother town relate different story of. Include value country within.', 'id': '622886918b39d0ce45043574', 'is_deleted': False, 'is_disabled': False, 'is_private': False, 'location': {'address': 'Smithmouth', 'lat': '40.4542225', 'lng': '111.334572'}, 'name': 'Engineer, site', 'openings': '7563', 'responsibilities': 'Effect activity room. Happen determine carry among lead. Approach young tax candidate.', 'salary': {'max': '100k', 'min': '50k'}, 'skills': [{'category': 'Custom', 'label': 'Programming', 'value': 'Programming'}], 'status': 'open', 'updated_at': '1646802357.162799', 'user_id': '622886678b39d0ce45043510', 'vacancy_close': '1646802357.162788', 'vacancy_open': '1646802357.162772', 'match': 8}, {'benefits': 'Threat their wrong mission allow. Player continue wind meeting drop purpose woman. Rule item always argue stay.', 'company': {'bio': 'This is bio', 'contact': '129.381.2815x1815', 'creator': {'bio': 'This is my bio', 'company_id': '6228866b8b39d0ce45043515', 'created_at': '1646802315.488012', 'education': [{'degree': 'General practice doctor', 'end': 1646802315.48801, 'institute': 'Kim Ltd', 'start': 1646802315.488007}], 'email': 'recruiter@gmail.com', 'experience': [{'end': 1646802315.487767, 'institute': 'Cole Inc', 'position': 'Ship broker', 'start': 1646802315.48776}], 'fullname': 'Jason Brown', 'id': '622886678b39d0ce45043510', 'is_deleted': False, 'is_disabled': False, 'is_private': False, 'is_verified': True, 'location': {'address': 'South Diane', 'lat': '29.635325', 'lng': '53.079166'}, 'permissions': [], 'phone': '(510)290-7469', 'role': 'recruiter', 'skills': [{'category': 'Custom', 'label': 'Programming', 'value': 'Programming'}], 'updated_at': '1646802315.488018'}, 'founded_at': '2022-03-08', 'id': '6228866b8b39d0ce45043515', 'location': {'address': 'Lake Sheilatown', 'lat': '60.6572035', 'lng': '-54.115917'}, 'mailing': '0441 Patterson Circle Suite 635\\r\\nScottton, IA 03525', 'name': 'Santiago, Parsons and Baxter', 'size': '5896', 'user_id': '622886678b39d0ce45043510', 'website': 'http://richardson.com/'}, 'company_id': '6228866b8b39d0ce45043515', 'created_at': '1646802356.852306', 'description': 'Tonight mother alone garden part expert. Prepare others high good.', 'id': '622886908b39d0ce45043573', 'is_deleted': False, 'is_disabled': False, 'is_private': False, 'location': {'address': 'Lake Kelly', 'lat': '-59.615728', 'lng': '-46.882840'}, 'name': 'Prison officer', 'openings': '9242', 'responsibilities': 'Day eight policy go fear here. Country bar blood animal near let since. Serve model the toward less.', 'salary': {'max': '100k', 'min': '50k'}, 'skills': [{'category': 'Custom', 'label': 'Programming', 'value': 'Programming'}], 'status': 'draft', 'updated_at': '1646802356.85231', 'user_id': '622886678b39d0ce45043510', 'vacancy_close': '1646802356.8523', 'vacancy_open': '1646802356.852283', 'match': 8}, {'benefits': 'Teacher allow design address one. Explain cold although people which some. Product born nice attorney home.', 'company': {'bio': 'This is bio', 'contact': '129.381.2815x1815', 'creator': {'bio': 'This is my bio', 'company_id': '6228866b8b39d0ce45043515', 'created_at': '1646802315.488012', 'education': [{'degree': 'General practice doctor', 'end': 1646802315.48801, 'institute': 'Kim Ltd', 'start': 1646802315.488007}], 'email': 'recruiter@gmail.com', 'experience': [{'end': 1646802315.487767, 'institute': 'Cole Inc', 'position': 'Ship broker', 'start': 1646802315.48776}], 'fullname': 'Jason Brown', 'id': '622886678b39d0ce45043510', 'is_deleted': False, 'is_disabled': False, 'is_private': False, 'is_verified': True, 'location': {'address': 'South Diane', 'lat': '29.635325', 'lng': '53.079166'}, 'permissions': [], 'phone': '(510)290-7469', 'role': 'recruiter', 'skills': [{'category': 'Custom', 'label': 'Programming', 'value': 'Programming'}], 'updated_at': '1646802315.488018'}, 'founded_at': '2022-03-08', 'id': '6228866b8b39d0ce45043515', 'location': {'address': 'Lake Sheilatown', 'lat': '60.6572035', 'lng': '-54.115917'}, 'mailing': '0441 Patterson Circle Suite 635\\r\\nScottton, IA 03525', 'name': 'Santiago, Parsons and Baxter', 'size': '5896', 'user_id': '622886678b39d0ce45043510', 'website': 'http://richardson.com/'}, 'company_id': '6228866b8b39d0ce45043515', 'created_at': '1646802356.532375', 'description': 'Goal do sometimes nice almost. Together meet loss laugh lay.', 'id': '622886908b39d0ce45043572', 'is_deleted': False, 'is_disabled': False, 'is_private': False, 'location': {'address': 'North Taylor', 'lat': '0.589184', 'lng': '138.384423'}, 'name': 'Contractor', 'openings': '8330', 'responsibilities': 'Body bad quickly certain bad window. Court significant open actually. Everyone cell carry.', 'salary': {'max': '100k', 'min': '50k'}, 'skills': [{'category': 'Custom', 'label': 'Programming', 'value': 'Programming'}], 'status': 'open', 'updated_at': '1646802356.532379', 'user_id': '622886678b39d0ce45043510', 'vacancy_close': '1646802356.532369', 'vacancy_open': '1646802356.532353', 'match': 8}, {'benefits': 'Since expert name pretty cut seem thank understand. Boy pretty teacher through card team.', 'company': {'bio': 'This is bio', 'contact': '129.381.2815x1815', 'creator': {'bio': 'This is my bio', 'company_id': '6228866b8b39d0ce45043515', 'created_at': '1646802315.488012', 'education': [{'degree': 'General practice doctor', 'end': 1646802315.48801, 'institute': 'Kim Ltd', 'start': 1646802315.488007}], 'email': 'recruiter@gmail.com', 'experience': [{'end': 1646802315.487767, 'institute': 'Cole Inc', 'position': 'Ship broker', 'start': 1646802315.48776}], 'fullname': 'Jason Brown', 'id': '622886678b39d0ce45043510', 'is_deleted': False, 'is_disabled': False, 'is_private': False, 'is_verified': True, 'location': {'address': 'South Diane', 'lat': '29.635325', 'lng': '53.079166'}, 'permissions': [], 'phone': '(510)290-7469', 'role': 'recruiter', 'skills': [{'category': 'Custom', 'label': 'Programming', 'value': 'Programming'}], 'updated_at': '1646802315.488018'}, 'founded_at': '2022-03-08', 'id': '6228866b8b39d0ce45043515', 'location': {'address': 'Lake Sheilatown', 'lat': '60.6572035', 'lng': '-54.115917'}, 'mailing': '0441 Patterson Circle Suite 635\\r\\nScottton, IA 03525', 'name': 'Santiago, Parsons and Baxter', 'size': '5896', 'user_id': '622886678b39d0ce45043510', 'website': 'http://richardson.com/'}, 'company_id': '6228866b8b39d0ce45043515', 'created_at': '1646802356.12177', 'description': 'Develop if bag and this. Across give nearly cultural.', 'id': '622886908b39d0ce45043571', 'is_deleted': False, 'is_disabled': False, 'is_private': False, 'location': {'address': 'Grantmouth', 'lat': '21.806101', 'lng': '28.070759'}, 'name': 'Optometrist', 'openings': '1971', 'responsibilities': 'Of play record concern then. Specific policy financial occur statement small sing. Whom state color late beyond. Word financial treat as little.', 'salary': {'max': '100k', 'min': '50k'}, 'skills': [{'category': 'Custom', 'label': 'Programming', 'value': 'Programming'}], 'status': 'draft', 'updated_at': '1646802356.121773', 'user_id': '622886678b39d0ce45043510', 'vacancy_close': '1646802356.121767', 'vacancy_open': '1646802356.121757', 'match': 8}, {'benefits': 'Relate together we decide agent environmental dream. Writer growth five member. Raise record capital respond near nation.', 'company': {'bio': 'This is bio', 'contact': '129.381.2815x1815', 'creator': {'bio': 'This is my bio', 'company_id': '6228866b8b39d0ce45043515', 'created_at': '1646802315.488012', 'education': [{'degree': 'General practice doctor', 'end': 1646802315.48801, 'institute': 'Kim Ltd', 'start': 1646802315.488007}], 'email': 'recruiter@gmail.com', 'experience': [{'end': 1646802315.487767, 'institute': 'Cole Inc', 'position': 'Ship broker', 'start': 1646802315.48776}], 'fullname': 'Jason Brown', 'id': '622886678b39d0ce45043510', 'is_deleted': False, 'is_disabled': False, 'is_private': False, 'is_verified': True, 'location': {'address': 'South Diane', 'lat': '29.635325', 'lng': '53.079166'}, 'permissions': [], 'phone': '(510)290-7469', 'role': 'recruiter', 'skills': [{'category': 'Custom', 'label': 'Programming', 'value': 'Programming'}], 'updated_at': '1646802315.488018'}, 'founded_at': '2022-03-08', 'id': '6228866b8b39d0ce45043515', 'location': {'address': 'Lake Sheilatown', 'lat': '60.6572035', 'lng': '-54.115917'}, 'mailing': '0441 Patterson Circle Suite 635\\r\\nScottton, IA 03525', 'name': 'Santiago, Parsons and Baxter', 'size': '5896', 'user_id': '622886678b39d0ce45043510', 'website': 'http://richardson.com/'}, 'company_id': '6228866b8b39d0ce45043515', 'created_at': '1646802355.712499', 'description': 'Budget million customer security war water. Bill nothing mother pick theory. After always vote popular firm.', 'id': '6228868f8b39d0ce45043570', 'is_deleted': False, 'is_disabled': False, 'is_private': False, 'location': {'address': 'Derekbury', 'lat': '-56.6001815', 'lng': '37.118138'}, 'name': 'Scientist, clinical (histocompatibility and immunogenetics)', 'openings': '4748', 'responsibilities': 'Away society suggest we pattern.', 'salary': {'max': '100k', 'min': '50k'}, 'skills': [{'category': 'Custom', 'label': 'Programming', 'value': 'Programming'}], 'status': 'open', 'updated_at': '1646802355.712504', 'user_id': '622886678b39d0ce45043510', 'vacancy_close': '1646802355.712492', 'vacancy_open': '1646802355.712472', 'match': 8}]\n"
     ]
    }
   ],
   "source": [
    "import os\n",
    "import requests\n",
    "\n",
    "def get_droplets():\n",
    "    url = 'https://zjbeaem3nm.us-east-1.awsapprunner.com/api/v2/jobs'\n",
    "    r = requests.get(url,headers={'AI-Token':'2ddf98f8-97e8-4170-89a6-c131e50e0d8a'})\n",
    "    droplets = r.json()['data']\n",
    "    list_jobs=list()\n",
    "    Skills = ['Programming', 'Python,', 'Javascript,', 'Html & CSS', 'C,', 'Flask', 'Pandas', 'Numpy,', 'Selenium,', 'BeautifulSoup,', 'FastApi', 'Jquery']\n",
    "    for i in droplets:\n",
    "        if isinstance(i['skills'], list):\n",
    "            for j in i['skills']:\n",
    "#                 print(j['label'])\n",
    "#                 res = len(set(Skills) & set(j['label'])) / float(len(set(Skills) | set(j['label']))) * 100\n",
    "                res = len((set(Skills).intersection(set([j['label']]))))/len((set(Skills).union(set([j['label']]))))*100\n",
    "                if res > 8:\n",
    "                    i['match'] = int(res\n",
    "                    list_jobs.append(i)\n",
    "    return list_jobs\n",
    "    # return i['skills']\n",
    "    \n",
    "    \n",
    "print(get_droplets())\n",
    "# print(data)"
   ]
  },
  {
   "cell_type": "code",
   "execution_count": 46,
   "metadata": {},
   "outputs": [
    {
     "name": "stdout",
     "output_type": "stream",
     "text": [
      "{'benefits': 'Perhaps raise company what final series research. Four recently imagine thought remain six memory reflect. Season arrive perform seek part. Bar right research true size.', 'company': {'bio': 'This is bio', 'contact': '129.381.2815x1815', 'creator': {'bio': 'This is my bio', 'company_id': '6228866b8b39d0ce45043515', 'created_at': '1646802315.488012', 'education': [{'degree': 'General practice doctor', 'end': 1646802315.48801, 'institute': 'Kim Ltd', 'start': 1646802315.488007}], 'email': 'recruiter@gmail.com', 'experience': [{'end': 1646802315.487767, 'institute': 'Cole Inc', 'position': 'Ship broker', 'start': 1646802315.48776}], 'fullname': 'Jason Brown', 'id': '622886678b39d0ce45043510', 'is_deleted': False, 'is_disabled': False, 'is_private': False, 'is_verified': True, 'location': {'address': 'South Diane', 'lat': '29.635325', 'lng': '53.079166'}, 'permissions': [], 'phone': '(510)290-7469', 'role': 'recruiter', 'skills': [{'category': 'Custom', 'label': 'Programming', 'value': 'Programming'}], 'updated_at': '1646802315.488018'}, 'founded_at': '2022-03-08', 'id': '6228866b8b39d0ce45043515', 'location': {'address': 'Lake Sheilatown', 'lat': '60.6572035', 'lng': '-54.115917'}, 'mailing': '0441 Patterson Circle Suite 635\\r\\nScottton, IA 03525', 'name': 'Santiago, Parsons and Baxter', 'size': '5896', 'user_id': '622886678b39d0ce45043510', 'website': 'http://richardson.com/'}, 'company_id': '6228866b8b39d0ce45043515', 'created_at': '1646802359.194069', 'description': 'Question along forget. Us hear seek friend stage since option.', 'id': '622886938b39d0ce45043579', 'is_deleted': 'true', 'is_disabled': False, 'is_private': False, 'location': {'address': 'Port Drew', 'lat': '-71.338548', 'lng': '-6.310507'}, 'name': 'Insurance broker', 'openings': '9000', 'responsibilities': 'Production organization worry apply large where. Oil ability itself note however west number. Western high doctor century.', 'salary': {'max': '100k', 'min': '50k'}, 'skills': [{'category': 'Custom', 'label': 'Programming', 'value': 'Programming'}], 'status': 'open', 'updated_at': 1646805909.81443, 'user_id': '622886678b39d0ce45043510', 'vacancy_close': '1646802359.194062', 'vacancy_open': '1646802359.194042', 'match': 8}\n"
     ]
    }
   ],
   "source": [
    "print(get_droplets()[0])"
   ]
  },
  {
   "cell_type": "code",
   "execution_count": 61,
   "metadata": {},
   "outputs": [
    {
     "name": "stdout",
     "output_type": "stream",
     "text": [
      "16.666666666666664\n",
      "['Programming', 'HTML']\n",
      "{'jquery', 'pandas', 'numpy,', 'selenium,', 'fastapi', 'beautifulsoup,', 'programming', 'c,', 'flask', 'javascript,', 'html', 'python,'}\n",
      "['Programming', 'HTML']\n",
      "[{'benefits': 'Perhaps raise company what final series research. Four recently imagine thought remain six memory reflect. Season arrive perform seek part. Bar right research true size.', 'company': {'bio': 'This is bio', 'contact': '129.381.2815x1815', 'creator': {'bio': 'This is my bio', 'company_id': '6228866b8b39d0ce45043515', 'created_at': '1646802315.488012', 'education': [{'degree': 'General practice doctor', 'end': 1646802315.48801, 'institute': 'Kim Ltd', 'start': 1646802315.488007}], 'email': 'recruiter@gmail.com', 'experience': [{'end': 1646802315.487767, 'institute': 'Cole Inc', 'position': 'Ship broker', 'start': 1646802315.48776}], 'fullname': 'Jason Brown', 'id': '622886678b39d0ce45043510', 'is_deleted': False, 'is_disabled': False, 'is_private': False, 'is_verified': True, 'location': {'address': 'South Diane', 'lat': '29.635325', 'lng': '53.079166'}, 'permissions': [], 'phone': '(510)290-7469', 'role': 'recruiter', 'skills': [{'category': 'Custom', 'label': 'Programming', 'value': 'Programming'}], 'updated_at': '1646802315.488018'}, 'founded_at': '2022-03-08', 'id': '6228866b8b39d0ce45043515', 'location': {'address': 'Lake Sheilatown', 'lat': '60.6572035', 'lng': '-54.115917'}, 'mailing': '0441 Patterson Circle Suite 635\\r\\nScottton, IA 03525', 'name': 'Santiago, Parsons and Baxter', 'size': '5896', 'user_id': '622886678b39d0ce45043510', 'website': 'http://richardson.com/'}, 'company_id': '6228866b8b39d0ce45043515', 'created_at': '1646802359.194069', 'description': 'Question along forget. Us hear seek friend stage since option.', 'id': '622886938b39d0ce45043579', 'is_deleted': 'true', 'is_disabled': False, 'is_private': False, 'location': {'address': 'Port Drew', 'lat': '-71.338548', 'lng': '-6.310507'}, 'name': 'Insurance broker', 'openings': '9000', 'responsibilities': 'Production organization worry apply large where. Oil ability itself note however west number. Western high doctor century.', 'salary': {'max': '100k', 'min': '50k'}, 'skills': [{'category': 'Custom', 'label': 'Programming', 'value': 'Programming'}, {'category': 'Custom', 'label': 'HTML', 'value': 'HTML'}], 'status': 'open', 'updated_at': 1646805909.81443, 'user_id': '622886678b39d0ce45043510', 'vacancy_close': '1646802359.194062', 'vacancy_open': '1646802359.194042', 'match': 16}]\n"
     ]
    }
   ],
   "source": [
    "job = [{'benefits': 'Perhaps raise company what final series research. Four recently imagine thought remain six memory reflect. Season arrive perform seek part. Bar right research true size.', 'company': {'bio': 'This is bio', 'contact': '129.381.2815x1815', 'creator': {'bio': 'This is my bio', 'company_id': '6228866b8b39d0ce45043515', 'created_at': '1646802315.488012', 'education': [{'degree': 'General practice doctor', 'end': 1646802315.48801, 'institute': 'Kim Ltd', 'start': 1646802315.488007}], 'email': 'recruiter@gmail.com', 'experience': [{'end': 1646802315.487767, 'institute': 'Cole Inc', 'position': 'Ship broker', 'start': 1646802315.48776}], 'fullname': 'Jason Brown', 'id': '622886678b39d0ce45043510', 'is_deleted': False, 'is_disabled': False, 'is_private': False, 'is_verified': True, 'location': {'address': 'South Diane', 'lat': '29.635325', 'lng': '53.079166'}, 'permissions': [], 'phone': '(510)290-7469', 'role': 'recruiter', 'skills': [{'category': 'Custom', 'label': 'Programming', 'value': 'Programming'}], 'updated_at': '1646802315.488018'}, 'founded_at': '2022-03-08', 'id': '6228866b8b39d0ce45043515', 'location': {'address': 'Lake Sheilatown', 'lat': '60.6572035', 'lng': '-54.115917'}, 'mailing': '0441 Patterson Circle Suite 635\\r\\nScottton, IA 03525', 'name': 'Santiago, Parsons and Baxter', 'size': '5896', 'user_id': '622886678b39d0ce45043510', 'website': 'http://richardson.com/'}, 'company_id': '6228866b8b39d0ce45043515', 'created_at': '1646802359.194069', 'description': 'Question along forget. Us hear seek friend stage since option.', 'id': '622886938b39d0ce45043579', 'is_deleted': 'true', 'is_disabled': False, 'is_private': False, 'location': {'address': 'Port Drew', 'lat': '-71.338548', 'lng': '-6.310507'}, 'name': 'Insurance broker', 'openings': '9000', 'responsibilities': 'Production organization worry apply large where. Oil ability itself note however west number. Western high doctor century.', 'salary': {'max': '100k', 'min': '50k'}, 'skills': [{'category': 'Custom', 'label': 'Programming', 'value': 'Programming'},{'category': 'Custom', 'label': 'HTML', 'value': 'HTML'}], 'status': 'open', 'updated_at': 1646805909.81443, 'user_id': '622886678b39d0ce45043510', 'vacancy_close': '1646802359.194062', 'vacancy_open': '1646802359.194042', 'match': 8}]\n",
    "skills = [\"programming\",\n",
    "        \"Python,\",\n",
    "        \"Javascript,\",\n",
    "        \"Html\",\n",
    "        \"C,\",\n",
    "        \"Flask\",\n",
    "        \"Pandas\",\n",
    "        \"Numpy,\",\n",
    "        \"Selenium,\",\n",
    "        \"BeautifulSoup,\",\n",
    "        \"FastApi\",\n",
    "        \"Jquery\"]\n",
    "list_jobs = list()\n",
    "droplets = job\n",
    "labels = []\n",
    "for i in droplets:\n",
    "    if isinstance(i['skills'],list):\n",
    "        \n",
    "        for j in i['skills']:\n",
    "            labels.append(j['label'])\n",
    "        label = list(map(lambda x: x.lower(), labels))\n",
    "        skills = set(map(lambda x: x.lower(), skills))\n",
    "        \n",
    "        res = len((skills.intersection(set(label))))/len(skills.union(set(label)))*100\n",
    "        print(res)\n",
    "        if res > 8:\n",
    "            i['match'] = int(res)\n",
    "            list_jobs.append(i)\n",
    "        print(labels)\n",
    "        print(skills)\n",
    "print(labels)\n",
    "print(list_jobs)\n"
   ]
  },
  {
   "cell_type": "code",
   "execution_count": null,
   "metadata": {},
   "outputs": [],
   "source": []
  }
 ],
 "metadata": {
  "kernelspec": {
   "display_name": "Python 3 (ipykernel)",
   "language": "python",
   "name": "python3"
  },
  "language_info": {
   "codemirror_mode": {
    "name": "ipython",
    "version": 3
   },
   "file_extension": ".py",
   "mimetype": "text/x-python",
   "name": "python",
   "nbconvert_exporter": "python",
   "pygments_lexer": "ipython3",
   "version": "3.7.1"
  }
 },
 "nbformat": 4,
 "nbformat_minor": 2
}
