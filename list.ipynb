{
 "cells": [
  {
   "cell_type": "code",
   "execution_count": 1,
   "metadata": {},
   "outputs": [],
   "source": [
    "# Python collection\n",
    "# -List\n",
    "# -Tuple\n",
    "# -Dictionary\n",
    "# -Set"
   ]
  },
  {
   "cell_type": "code",
   "execution_count": 2,
   "metadata": {},
   "outputs": [],
   "source": [
    "# # List\n",
    "# -Indexed\n",
    "# -Ordered\n",
    "# -Multiple and duplicate Values\n",
    "# -Mutable"
   ]
  },
  {
   "cell_type": "code",
   "execution_count": 3,
   "metadata": {},
   "outputs": [
    {
     "name": "stdout",
     "output_type": "stream",
     "text": [
      "<class 'list'>\n"
     ]
    }
   ],
   "source": [
    "a = list()\n",
    "l = [\"Apple\",\"Ball\",\"cat\"]\n",
    "print(type(l))"
   ]
  },
  {
   "cell_type": "code",
   "execution_count": 7,
   "metadata": {},
   "outputs": [
    {
     "name": "stdout",
     "output_type": "stream",
     "text": [
      "Apple\n",
      "Fish\n",
      "['Apple', 'Ball', 'cat', 'Dog', 'Fish']\n",
      "['Apple', 'cat', 'Fish']\n"
     ]
    }
   ],
   "source": [
    "l = [\"Apple\",\"Ball\",\"cat\",\"Dog\",\"Fish\"]\n",
    "print(l[0])\n",
    "print(l[-1])\n",
    "print(l[0:5])\n",
    "print(l[0:6:2])"
   ]
  },
  {
   "cell_type": "code",
   "execution_count": 8,
   "metadata": {},
   "outputs": [
    {
     "name": "stdout",
     "output_type": "stream",
     "text": [
      "['Apple', 'Ball', 'cat', 'Dog', 'Fish']\n"
     ]
    }
   ],
   "source": [
    "l = [\"Apple\",\"Ball\",\"cat\",\"Dog\",\"Fish\"]\n",
    "print(l)"
   ]
  },
  {
   "cell_type": "code",
   "execution_count": 9,
   "metadata": {},
   "outputs": [
    {
     "name": "stdout",
     "output_type": "stream",
     "text": [
      "['Apple', 'Ball', 'cat', 'Dog', 'Fish', 'Zebra']\n"
     ]
    }
   ],
   "source": [
    "l = [\"Apple\",\"Ball\",\"cat\",\"Dog\",\"Fish\"]\n",
    "k = [\"Zebra\"]\n",
    "print(l+k)"
   ]
  },
  {
   "cell_type": "code",
   "execution_count": 10,
   "metadata": {},
   "outputs": [
    {
     "name": "stdout",
     "output_type": "stream",
     "text": [
      "['Apple', 'Ball', 'cat', 'Dog', 'Fish', 'Apple', 'Apple']\n"
     ]
    }
   ],
   "source": [
    "l = [\"Apple\",\"Ball\",\"cat\",\"Dog\",\"Fish\",\"Apple\",\"Apple\"]\n",
    "print(l)"
   ]
  },
  {
   "cell_type": "code",
   "execution_count": 12,
   "metadata": {},
   "outputs": [
    {
     "name": "stdout",
     "output_type": "stream",
     "text": [
      "['Ant', 'Ball', 'cat', 'Dog', 'Fish']\n"
     ]
    }
   ],
   "source": [
    "l = [\"Apple\",\"Ball\",\"cat\",\"Dog\",\"Fish\"]\n",
    "l[0] = \"Ant\"\n",
    "print(l)"
   ]
  },
  {
   "cell_type": "code",
   "execution_count": 13,
   "metadata": {},
   "outputs": [
    {
     "name": "stdout",
     "output_type": "stream",
     "text": [
      "['Ball']\n"
     ]
    }
   ],
   "source": [
    "a = []\n",
    "b = [\"Ball\"]\n",
    "print(a+b)"
   ]
  },
  {
   "cell_type": "code",
   "execution_count": 15,
   "metadata": {},
   "outputs": [
    {
     "name": "stdout",
     "output_type": "stream",
     "text": [
      "Enter n = 2\n",
      "Enter  name = Ram\n",
      "Enter  name = Shyam\n",
      "['Ram', 'Shyam']\n"
     ]
    }
   ],
   "source": [
    "names = list()\n",
    "n = int(input(\"Enter n = \"))\n",
    "for i in range(n):\n",
    "    x = input(\"Enter  name = \")\n",
    "    names = names +[x]\n",
    "    \n",
    "print(names)"
   ]
  },
  {
   "cell_type": "code",
   "execution_count": 18,
   "metadata": {},
   "outputs": [
    {
     "name": "stdout",
     "output_type": "stream",
     "text": [
      "Enter n = 5\n",
      "Enter  x = 24324\n",
      "Enter  x = 3453\n",
      "Enter  x = 64565\n",
      "Enter  x = 234\n",
      "Enter  x = 6767\n",
      "[24324, 3453, 64565, 234, 6767]\n",
      "Sum of the list =  99343\n",
      "max value of the list =  64565\n",
      "min value of the list =  234\n"
     ]
    }
   ],
   "source": [
    "y = list()\n",
    "n = int(input(\"Enter n = \"))\n",
    "for i in range(n):\n",
    "    x = int(input(\"Enter  x = \"))\n",
    "    y = y +[x]\n",
    "    \n",
    "print(y)\n",
    "print(\"Sum of the list = \",sum(y))\n",
    "print(\"max value of the list = \",max(y))\n",
    "print(\"min value of the list = \",min(y))\n"
   ]
  },
  {
   "cell_type": "code",
   "execution_count": 19,
   "metadata": {},
   "outputs": [
    {
     "name": "stdout",
     "output_type": "stream",
     "text": [
      "[234, 3453, 6767, 24324, 64565]\n",
      "[64565, 24324, 6767, 3453, 234]\n"
     ]
    }
   ],
   "source": [
    "y.sort()\n",
    "print(y)\n",
    "y.reverse()\n",
    "print(y)"
   ]
  },
  {
   "cell_type": "code",
   "execution_count": 20,
   "metadata": {},
   "outputs": [
    {
     "name": "stdout",
     "output_type": "stream",
     "text": [
      "Enter n = 5\n",
      "Enter  x = ball\n",
      "Enter  x = Apple\n",
      "Enter  x = zebra\n",
      "Enter  x = Xray\n",
      "Enter  x = Goat\n",
      "['ball', 'Apple', 'zebra', 'Xray', 'Goat']\n"
     ]
    }
   ],
   "source": [
    "y = list()\n",
    "n = int(input(\"Enter n = \"))\n",
    "for i in range(n):\n",
    "    x = input(\"Enter  x = \")\n",
    "    y = y +[x]\n",
    "    \n",
    "print(y)"
   ]
  },
  {
   "cell_type": "code",
   "execution_count": 21,
   "metadata": {},
   "outputs": [
    {
     "name": "stdout",
     "output_type": "stream",
     "text": [
      "['Apple', 'Goat', 'Xray', 'ball', 'zebra']\n"
     ]
    }
   ],
   "source": [
    "y.sort()\n",
    "print(y)"
   ]
  },
  {
   "cell_type": "code",
   "execution_count": 22,
   "metadata": {},
   "outputs": [],
   "source": [
    "# append()\n",
    "# insert()\n",
    "# extend()"
   ]
  },
  {
   "cell_type": "code",
   "execution_count": 23,
   "metadata": {},
   "outputs": [
    {
     "name": "stdout",
     "output_type": "stream",
     "text": [
      "['Apple', 'Goat', 'Xray', 'ball', 'zebra', 'Fish']\n"
     ]
    }
   ],
   "source": [
    "x = ['Apple', 'Goat', 'Xray', 'ball', 'zebra']\n",
    "x.append(\"Fish\")\n",
    "print(x)"
   ]
  },
  {
   "cell_type": "code",
   "execution_count": null,
   "metadata": {},
   "outputs": [],
   "source": [
    "y = list()\n",
    "n = int(input(\"Enter n = \"))\n",
    "for i in range(n):\n",
    "    x = input(\"Enter  x = \")\n",
    "    y.append(x)\n",
    "    \n",
    "print(y)"
   ]
  },
  {
   "cell_type": "code",
   "execution_count": 24,
   "metadata": {},
   "outputs": [
    {
     "name": "stdout",
     "output_type": "stream",
     "text": [
      "['Apple', 'Ball', 'Goat', 'Xray', 'ball', 'zebra']\n"
     ]
    }
   ],
   "source": [
    "x = ['Apple', 'Goat', 'Xray', 'ball', 'zebra']\n",
    "x.insert(1,\"Ball\")\n",
    "print(x)"
   ]
  },
  {
   "cell_type": "code",
   "execution_count": 25,
   "metadata": {},
   "outputs": [
    {
     "name": "stdout",
     "output_type": "stream",
     "text": [
      "['Apple', 'Goat', 'Xray', 'ball', 'zebra', 1, 2, 3, 4]\n"
     ]
    }
   ],
   "source": [
    "x = ['Apple', 'Goat', 'Xray', 'ball', 'zebra']\n",
    "y = [1,2,3,4]\n",
    "x.extend(y)\n",
    "print(x)"
   ]
  },
  {
   "cell_type": "code",
   "execution_count": 27,
   "metadata": {},
   "outputs": [
    {
     "name": "stdout",
     "output_type": "stream",
     "text": [
      "Apple\n",
      "Goat\n",
      "Xray\n",
      "ball\n",
      "zebra\n"
     ]
    }
   ],
   "source": [
    "x = ['Apple', 'Goat', 'Xray', 'ball', 'zebra']\n",
    "for i in x:\n",
    "    print(i)"
   ]
  },
  {
   "cell_type": "code",
   "execution_count": 28,
   "metadata": {},
   "outputs": [
    {
     "name": "stdout",
     "output_type": "stream",
     "text": [
      "['Apple', 'Goat', 'Xray', 'ball', 'zebra']\n",
      "['Apple', 'Goat', 'Xray', 'ball', 'zebra']\n",
      "['Apple', 'Goat', 'Xray', 'ball', 'zebra']\n",
      "['Apple', 'Goat', 'Xray', 'ball', 'zebra']\n",
      "['Apple', 'Goat', 'Xray', 'ball', 'zebra']\n"
     ]
    }
   ],
   "source": [
    "x = ['Apple', 'Goat', 'Xray', 'ball', 'zebra']\n",
    "for i in x:\n",
    "    print(x)"
   ]
  },
  {
   "cell_type": "code",
   "execution_count": 30,
   "metadata": {},
   "outputs": [
    {
     "name": "stdout",
     "output_type": "stream",
     "text": [
      "Apple\n",
      "Goat\n"
     ]
    }
   ],
   "source": [
    "x = ['Apple', 'Goat', 'Xray', 'ball', 'zebra']\n",
    "for i in x:\n",
    "    if i == 'Xray':\n",
    "        break\n",
    "    print(i)"
   ]
  },
  {
   "cell_type": "code",
   "execution_count": 31,
   "metadata": {},
   "outputs": [
    {
     "name": "stdout",
     "output_type": "stream",
     "text": [
      "Apple\n",
      "Goat\n",
      "ball\n",
      "zebra\n"
     ]
    }
   ],
   "source": [
    "x = ['Apple', 'Goat', 'Xray', 'ball', 'zebra']\n",
    "for i in x:\n",
    "    if i == 'Xray':\n",
    "        continue\n",
    "    print(i)"
   ]
  },
  {
   "cell_type": "code",
   "execution_count": 32,
   "metadata": {},
   "outputs": [
    {
     "name": "stdout",
     "output_type": "stream",
     "text": [
      "Yes 1\n"
     ]
    }
   ],
   "source": [
    "x = ['Apple', 'Goat', 'Xray', 'ball', 'zebra']\n",
    "if \"Apple\" in x:\n",
    "    print(\"Yes\",x.count(\"Apple\"))"
   ]
  },
  {
   "cell_type": "code",
   "execution_count": 34,
   "metadata": {},
   "outputs": [
    {
     "name": "stdout",
     "output_type": "stream",
     "text": [
      "['Goat', 'Xray', 'ball', 'zebra']\n"
     ]
    }
   ],
   "source": [
    "# del remove() pop()\n",
    "x = ['Apple', 'Goat', 'Xray', 'ball', 'zebra']\n",
    "del x[0]\n",
    "print(x)"
   ]
  },
  {
   "cell_type": "code",
   "execution_count": 35,
   "metadata": {},
   "outputs": [
    {
     "name": "stdout",
     "output_type": "stream",
     "text": [
      "['Goat', 'Xray', 'ball', 'zebra']\n"
     ]
    }
   ],
   "source": [
    "x = ['Apple', 'Goat', 'Xray', 'ball', 'zebra']\n",
    "x.remove('Apple')\n",
    "print(x)"
   ]
  },
  {
   "cell_type": "code",
   "execution_count": 39,
   "metadata": {},
   "outputs": [
    {
     "name": "stdout",
     "output_type": "stream",
     "text": [
      "['Apple', 'Goat', 'ball', 'zebra']\n",
      "Xray\n"
     ]
    }
   ],
   "source": [
    "x = ['Apple', 'Goat', 'Xray', 'ball', 'zebra']\n",
    "y = x.pop(2)\n",
    "print(x)\n",
    "print(y)"
   ]
  },
  {
   "cell_type": "code",
   "execution_count": 42,
   "metadata": {},
   "outputs": [
    {
     "name": "stdout",
     "output_type": "stream",
     "text": [
      "2\n",
      "5\n"
     ]
    }
   ],
   "source": [
    "x = ['Apple', 'Goat', 'Xray', 'ball', 'zebra','Xray']\n",
    "l = len(x)\n",
    "for i in range(l):\n",
    "    if x[i] == \"Xray\":\n",
    "        print(i)"
   ]
  },
  {
   "cell_type": "code",
   "execution_count": 43,
   "metadata": {},
   "outputs": [
    {
     "name": "stdout",
     "output_type": "stream",
     "text": [
      "['Apple', 'Goat', 'ball', 'zebra']\n"
     ]
    }
   ],
   "source": [
    "x = ['Apple', 'Goat', 'Xray', 'ball', 'zebra','Xray']\n",
    "for i in x:\n",
    "    if i == \"Xray\":\n",
    "        x.remove(\"Xray\")\n",
    "        \n",
    "print(x)"
   ]
  },
  {
   "cell_type": "code",
   "execution_count": 1,
   "metadata": {},
   "outputs": [
    {
     "name": "stdout",
     "output_type": "stream",
     "text": [
      "[[1, 2, 3], [4, 5, 6], [7, 8, 9]]\n",
      "<class 'list'>\n"
     ]
    }
   ],
   "source": [
    "# list inside list\n",
    "a = [[1,2,3],\n",
    "    [4,5,6],\n",
    "    [7,8,9]]\n",
    "\n",
    "b = [[],[],[]]\n",
    "print(a)\n",
    "print(type(a))"
   ]
  },
  {
   "cell_type": "code",
   "execution_count": 2,
   "metadata": {},
   "outputs": [
    {
     "name": "stdout",
     "output_type": "stream",
     "text": [
      "[['Ram', 34, 'Kathmandu'], ['Shyam', 45, 'Patan'], ['Hari', 67, 'Bara']]\n"
     ]
    }
   ],
   "source": [
    "a = [[\"Ram\",34,\"Kathmandu\"],\n",
    "    [\"Shyam\",45,\"Patan\"],\n",
    "    [\"Hari\",67,\"Bara\"]]\n",
    "print(a)\n"
   ]
  },
  {
   "cell_type": "code",
   "execution_count": 3,
   "metadata": {},
   "outputs": [
    {
     "name": "stdout",
     "output_type": "stream",
     "text": [
      "['Ram', 34, 'Kathmandu']\n",
      "['Shyam', 45, 'Patan']\n",
      "['Hari', 67, 'Bara']\n"
     ]
    }
   ],
   "source": [
    "a = [[\"Ram\",34,\"Kathmandu\"],\n",
    "    [\"Shyam\",45,\"Patan\"],\n",
    "    [\"Hari\",67,\"Bara\"]]\n",
    "for i in a:\n",
    "    print(i)"
   ]
  },
  {
   "cell_type": "code",
   "execution_count": 5,
   "metadata": {},
   "outputs": [
    {
     "name": "stdout",
     "output_type": "stream",
     "text": [
      "['Ram', 34, 'Kathmandu']\n"
     ]
    }
   ],
   "source": [
    "a = [[\"Ram\",34,\"Kathmandu\"],\n",
    "    [\"Shyam\",45,\"Patan\"],\n",
    "    [\"Hari\",67,\"Bara\"]]\n",
    "print(a[0])"
   ]
  },
  {
   "cell_type": "code",
   "execution_count": 6,
   "metadata": {},
   "outputs": [
    {
     "name": "stdout",
     "output_type": "stream",
     "text": [
      "Ram\n"
     ]
    }
   ],
   "source": [
    "a = [[\"Ram\",34,\"Kathmandu\"],\n",
    "    [\"Shyam\",45,\"Patan\"],\n",
    "    [\"Hari\",67,\"Bara\"]]\n",
    "print(a[0][0])"
   ]
  },
  {
   "cell_type": "code",
   "execution_count": 8,
   "metadata": {},
   "outputs": [
    {
     "name": "stdout",
     "output_type": "stream",
     "text": [
      "Enter n = 2\n",
      "Enter name = ram\n",
      "Enter age = 34\n",
      "Enter add = Kathmandu\n",
      "Enter name = Shyam\n",
      "Enter age = 45\n",
      "Enter add = Baluwatar\n",
      "[['ram', 34, 'Kathmandu'], ['Shyam', 45, 'Baluwatar']]\n"
     ]
    }
   ],
   "source": [
    "info = list()\n",
    "n = int(input(\"Enter n = \"))\n",
    "for i in range(n):\n",
    "    name = input(\"Enter name = \")\n",
    "    age = int(input(\"Enter age = \"))\n",
    "    add = input(\"Enter add = \")\n",
    "    data = [name,age,add]\n",
    "    info.append(data)\n",
    "    \n",
    "print(info)"
   ]
  },
  {
   "cell_type": "code",
   "execution_count": 9,
   "metadata": {},
   "outputs": [
    {
     "data": {
      "text/plain": [
       "[['ram', 34, 'Kathmandu'],\n",
       " ['Shyam', 45, 'Baluwatar'],\n",
       " ['Hari', 56, 'Janakpur']]"
      ]
     },
     "execution_count": 9,
     "metadata": {},
     "output_type": "execute_result"
    }
   ],
   "source": [
    "info = [['ram', 34, 'Kathmandu'], ['Shyam', 45, 'Baluwatar']]\n",
    "info.append(['Hari',56,'Janakpur'])\n",
    "info"
   ]
  },
  {
   "cell_type": "code",
   "execution_count": 19,
   "metadata": {},
   "outputs": [
    {
     "name": "stdout",
     "output_type": "stream",
     "text": [
      "Enter search = ram\n",
      "['ram', 34, 'Kathmandu']\n"
     ]
    }
   ],
   "source": [
    "search = input(\"Enter search = \")\n",
    "for i in info:\n",
    "    if search in i:\n",
    "        print(i)\n",
    "        break\n",
    "else:\n",
    "    print(\"No data found.\")"
   ]
  },
  {
   "cell_type": "code",
   "execution_count": 23,
   "metadata": {},
   "outputs": [
    {
     "name": "stdout",
     "output_type": "stream",
     "text": [
      "[['Ram', 34, 'Kathmandu'], ['Shyam', 45, 'Baluwatar']]\n"
     ]
    }
   ],
   "source": [
    "info = [['ram', 34, 'Kathmandu'], ['Shyam', 45, 'Baluwatar']]\n",
    "info[0][0] = \"Ram\"\n",
    "print(info)"
   ]
  },
  {
   "cell_type": "code",
   "execution_count": 24,
   "metadata": {},
   "outputs": [
    {
     "name": "stdout",
     "output_type": "stream",
     "text": [
      "[['Ram', 34, 'Kathmandu'], ['Shyam', 45, 'Baluwatar']]\n"
     ]
    }
   ],
   "source": [
    "info = [['ram', 34, 'Kathmandu'], ['Shyam', 45, 'Baluwatar']]\n",
    "info[0][0] = info[0][0].title()\n",
    "print(info)"
   ]
  },
  {
   "cell_type": "code",
   "execution_count": 27,
   "metadata": {},
   "outputs": [
    {
     "name": "stdout",
     "output_type": "stream",
     "text": [
      "[['ram', 34, 'Kathmandu']]\n"
     ]
    }
   ],
   "source": [
    "info = [['ram', 34, 'Kathmandu'], ['Shyam', 45, 'Baluwatar']]\n",
    "del info[1]\n",
    "print(info)"
   ]
  },
  {
   "cell_type": "code",
   "execution_count": 28,
   "metadata": {},
   "outputs": [
    {
     "name": "stdout",
     "output_type": "stream",
     "text": [
      "[[34, 'Kathmandu'], ['Shyam', 45, 'Baluwatar']]\n"
     ]
    }
   ],
   "source": [
    "info = [['ram', 34, 'Kathmandu'], ['Shyam', 45, 'Baluwatar']]\n",
    "del info[0][0]\n",
    "print(info)"
   ]
  },
  {
   "cell_type": "code",
   "execution_count": 30,
   "metadata": {},
   "outputs": [
    {
     "name": "stdout",
     "output_type": "stream",
     "text": [
      "2\n"
     ]
    }
   ],
   "source": [
    "info = [['ram', 34, 'Kathmandu'], \n",
    "        ['Shyam', 45, 'Baluwatar']]\n",
    "print(len(info))"
   ]
  },
  {
   "cell_type": "code",
   "execution_count": null,
   "metadata": {},
   "outputs": [],
   "source": [
    "[]"
   ]
  },
  {
   "cell_type": "code",
   "execution_count": 31,
   "metadata": {},
   "outputs": [
    {
     "name": "stdout",
     "output_type": "stream",
     "text": [
      "Enter r = 3\n",
      "Enter c = 3\n",
      "Enter x = 1\n",
      "Enter x = 2\n",
      "Enter x = 3\n",
      "Enter x = 4\n",
      "Enter x = 5\n",
      "Enter x = 6\n",
      "Enter x = 7\n",
      "Enter x = 8\n",
      "Enter x = 9\n",
      "[[1, 2, 3], [4, 5, 6], [7, 8, 9]]\n"
     ]
    }
   ],
   "source": [
    "m = []\n",
    "r = int(input(\"Enter r = \"))\n",
    "c = int(input(\"Enter c = \"))\n",
    "for i in range(r):\n",
    "    n = []\n",
    "    for j in range(c):\n",
    "        x = int(input(\"Enter x = \"))\n",
    "        n.append(x)  #[4,5,6]\n",
    "    m.append(n) #[[1,2,3],[4,5,6],[7,8,9]]\n",
    "    \n",
    "print(m)"
   ]
  },
  {
   "cell_type": "code",
   "execution_count": 32,
   "metadata": {},
   "outputs": [
    {
     "name": "stdout",
     "output_type": "stream",
     "text": [
      "Enter n = 2\n",
      "Enter name = Ram\n",
      "Enter phone = 9856556543\n",
      "Enter name = Shyam\n",
      "Enter phone = 9867665654\n",
      "Ram 9856556543\n",
      "Shyam 9867665654\n",
      "\n"
     ]
    }
   ],
   "source": [
    "s = str()\n",
    "n = int(input(\"Enter n = \"))\n",
    "for i in range(n):\n",
    "    name = input(\"Enter name = \")\n",
    "    phone = input(\"Enter phone = \")\n",
    "    s = s+f\"{name} {phone}\\n\"\n",
    "    \n",
    "print(s)"
   ]
  },
  {
   "cell_type": "code",
   "execution_count": 33,
   "metadata": {},
   "outputs": [
    {
     "name": "stdout",
     "output_type": "stream",
     "text": [
      "Ram 9856556543\n",
      "Shyam 9867665654\n",
      "\n"
     ]
    },
    {
     "data": {
      "text/plain": [
       "'Ram 9856556543\\nShyam 9867665654\\n'"
      ]
     },
     "execution_count": 33,
     "metadata": {},
     "output_type": "execute_result"
    }
   ],
   "source": [
    "print(s)\n",
    "s"
   ]
  },
  {
   "cell_type": "code",
   "execution_count": 49,
   "metadata": {},
   "outputs": [
    {
     "data": {
      "text/plain": [
       "[['Ram', '9856556543'], ['Shyam', '9867665654']]"
      ]
     },
     "execution_count": 49,
     "metadata": {},
     "output_type": "execute_result"
    }
   ],
   "source": [
    "l = []\n",
    "x = s.split('\\n')[:-1]\n",
    "for i in x:\n",
    "    l.append(i.split())\n",
    "l"
   ]
  },
  {
   "cell_type": "code",
   "execution_count": 43,
   "metadata": {},
   "outputs": [
    {
     "name": "stdout",
     "output_type": "stream",
     "text": [
      "['Ram 9856556543', 'Shyam 9867665654']\n",
      "[['Ram', '9856556543'], ['Shyam', '9867665654']]\n"
     ]
    }
   ],
   "source": [
    "x = []\n",
    "a = s.split('\\n')[0:-1]\n",
    "print(a)\n",
    "for i in a:\n",
    "    y = i.split()\n",
    "    x.append(y)\n",
    "    \n",
    "print(x)"
   ]
  },
  {
   "cell_type": "code",
   "execution_count": 41,
   "metadata": {},
   "outputs": [
    {
     "data": {
      "text/plain": [
       "['Apple', 'Ball']"
      ]
     },
     "execution_count": 41,
     "metadata": {},
     "output_type": "execute_result"
    }
   ],
   "source": [
    "a = \"Apple Ball\"\n",
    "a.split()"
   ]
  },
  {
   "cell_type": "code",
   "execution_count": null,
   "metadata": {},
   "outputs": [],
   "source": []
  }
 ],
 "metadata": {
  "kernelspec": {
   "display_name": "Python 3 (ipykernel)",
   "language": "python",
   "name": "python3"
  },
  "language_info": {
   "codemirror_mode": {
    "name": "ipython",
    "version": 3
   },
   "file_extension": ".py",
   "mimetype": "text/x-python",
   "name": "python",
   "nbconvert_exporter": "python",
   "pygments_lexer": "ipython3",
   "version": "3.7.1"
  }
 },
 "nbformat": 4,
 "nbformat_minor": 2
}
