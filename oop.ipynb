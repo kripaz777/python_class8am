{
 "cells": [
  {
   "cell_type": "code",
   "execution_count": 1,
   "metadata": {},
   "outputs": [],
   "source": [
    "# class Hello:         #class\n",
    "#     pass\n",
    "\n",
    "# obj = Hello()         #object"
   ]
  },
  {
   "cell_type": "code",
   "execution_count": 2,
   "metadata": {},
   "outputs": [
    {
     "name": "stdout",
     "output_type": "stream",
     "text": [
      "Hello World\n"
     ]
    }
   ],
   "source": [
    "class Hello:\n",
    "    print(\"Hello World\")\n",
    "    \n",
    "    \n",
    "obj = Hello()"
   ]
  },
  {
   "cell_type": "code",
   "execution_count": 5,
   "metadata": {},
   "outputs": [
    {
     "name": "stdout",
     "output_type": "stream",
     "text": [
      "Hello World\n"
     ]
    }
   ],
   "source": [
    "class Hello:\n",
    "    \n",
    "    def hello(self):\n",
    "        print(\"Hello World\")\n",
    "        \n",
    "obj = Hello()\n",
    "obj.hello()"
   ]
  },
  {
   "cell_type": "code",
   "execution_count": 6,
   "metadata": {},
   "outputs": [
    {
     "name": "stdout",
     "output_type": "stream",
     "text": [
      "Hello World\n"
     ]
    }
   ],
   "source": [
    "class Hello:\n",
    "    @staticmethod\n",
    "    def hello():\n",
    "        print(\"Hello World\")\n",
    "        \n",
    "obj = Hello()\n",
    "obj.hello()"
   ]
  },
  {
   "cell_type": "code",
   "execution_count": 8,
   "metadata": {},
   "outputs": [
    {
     "name": "stdout",
     "output_type": "stream",
     "text": [
      "20\n",
      "100\n"
     ]
    }
   ],
   "source": [
    "class Cal:\n",
    "    \n",
    "    def cal(self,l,b):\n",
    "        a= l*b\n",
    "        print(a)\n",
    "        \n",
    "    def volume(self,l,b,h):\n",
    "        v = l*b*h\n",
    "        print(v)\n",
    "        \n",
    "obj = Cal()\n",
    "obj.cal(10,2)\n",
    "obj.volume(10,5,2)"
   ]
  },
  {
   "cell_type": "code",
   "execution_count": 10,
   "metadata": {},
   "outputs": [
    {
     "name": "stdout",
     "output_type": "stream",
     "text": [
      "50\n",
      "100\n"
     ]
    }
   ],
   "source": [
    "class Cal:\n",
    "    def __init__(self,l,b,h):\n",
    "        self.l = l\n",
    "        self.b = b\n",
    "        self.h = h\n",
    "    \n",
    "    def cal(self):\n",
    "        a= self.l*self.b\n",
    "        print(a)\n",
    "        \n",
    "    def volume(self):\n",
    "        v = self.l*self.b*self.h\n",
    "        print(v)\n",
    "        \n",
    "        \n",
    "obj = Cal(10,5,2)\n",
    "obj.cal()\n",
    "obj.volume()"
   ]
  },
  {
   "cell_type": "code",
   "execution_count": 12,
   "metadata": {},
   "outputs": [
    {
     "name": "stdout",
     "output_type": "stream",
     "text": [
      "Enter name = Ram\n",
      "Enter age = 34\n",
      "Enter add = Kathmandu\n",
      "Hello World I am Ram. I am from Kathmandu. I am 34.\n"
     ]
    }
   ],
   "source": [
    "class Info:\n",
    "    def __init__(self):\n",
    "        self.name = input(\"Enter name = \")\n",
    "        self.age = int(input(\"Enter age = \"))\n",
    "        self.add = input(\"Enter add = \")\n",
    "        \n",
    "    def info(self):\n",
    "        print(f\"Hello World I am {self.name}. I am from {self.add}. I am {self.age}.\")\n",
    "            \n",
    "\n",
    "obj = Info()\n",
    "obj.info()"
   ]
  },
  {
   "cell_type": "code",
   "execution_count": 13,
   "metadata": {},
   "outputs": [
    {
     "name": "stdout",
     "output_type": "stream",
     "text": [
      "50\n",
      "100\n"
     ]
    }
   ],
   "source": [
    "class Area:\n",
    "    def __init__(self,l,b):\n",
    "        self.l = l\n",
    "        self.b = b\n",
    "    \n",
    "    def area(self):\n",
    "        a= self.l*self.b\n",
    "        print(a)\n",
    "        \n",
    "class Volume:\n",
    "    def __init__(self,l,b,h):\n",
    "        self.l = l\n",
    "        self.b = b\n",
    "        self.h = h\n",
    "        \n",
    "    def volume(self):\n",
    "        v = self.l*self.b*self.h\n",
    "        print(v)\n",
    "        \n",
    "        \n",
    "obj = Area(10,5)\n",
    "obj.area()\n",
    "\n",
    "obj1 = Volume(10,5,2)\n",
    "obj1.volume()"
   ]
  },
  {
   "cell_type": "code",
   "execution_count": 20,
   "metadata": {},
   "outputs": [
    {
     "name": "stdout",
     "output_type": "stream",
     "text": [
      "Enter name = Ram\n",
      "Enter age = 34\n",
      "Enter add = Kathmandu\n",
      "Hello World I am Ram. I am from Kathmandu. I am 34.\n",
      "Ram\n",
      "Kathmandu\n"
     ]
    }
   ],
   "source": [
    "class Info:\n",
    "    def __init__(self):\n",
    "        self.name = input(\"Enter name = \")\n",
    "        self.age = int(input(\"Enter age = \"))\n",
    "        self.add = input(\"Enter add = \")\n",
    "        \n",
    "    def __str__(self):\n",
    "        return self.name\n",
    "    \n",
    "    def address(self):\n",
    "        return self.add\n",
    "        \n",
    "    def info(self):\n",
    "        print(f\"Hello World I am {self.name}. I am from {self.add}. I am {self.age}.\")\n",
    "            \n",
    "\n",
    "obj = Info()\n",
    "obj.info()\n",
    "print(obj)\n",
    "print(obj.address())"
   ]
  },
  {
   "cell_type": "code",
   "execution_count": 15,
   "metadata": {},
   "outputs": [
    {
     "data": {
      "text/plain": [
       "'RamShyam'"
      ]
     },
     "execution_count": 15,
     "metadata": {},
     "output_type": "execute_result"
    }
   ],
   "source": []
  },
  {
   "cell_type": "code",
   "execution_count": 21,
   "metadata": {},
   "outputs": [
    {
     "name": "stdout",
     "output_type": "stream",
     "text": [
      "Ram Nepal\n"
     ]
    }
   ],
   "source": [
    "class Profile:\n",
    "    def __init__(self, name, address):\n",
    "        self.name = name\n",
    "        self.address = address\n",
    "\n",
    "\n",
    "class Hr(Profile):\n",
    "    def info(self):\n",
    "        print(self.name, self.address)\n",
    "\n",
    "x = Hr(\"Ram\", \"Nepal\")\n",
    "x.info()\n",
    "\n"
   ]
  },
  {
   "cell_type": "code",
   "execution_count": 22,
   "metadata": {},
   "outputs": [
    {
     "name": "stdout",
     "output_type": "stream",
     "text": [
      "Enter name = Ram\n",
      "Enter address = Kathmandu\n",
      "Ram Kathmandu\n"
     ]
    }
   ],
   "source": [
    "class Profile:\n",
    "    def __init__(self):\n",
    "        self.name = input(\"Enter name = \")\n",
    "        self.address = input(\"Enter address = \")\n",
    "\n",
    "\n",
    "class Hr(Profile):\n",
    "    def info(self):\n",
    "        print(self.name, self.address)\n",
    "\n",
    "x = Hr()\n",
    "x.info()\n",
    "\n"
   ]
  },
  {
   "cell_type": "code",
   "execution_count": null,
   "metadata": {},
   "outputs": [],
   "source": [
    "class Profile:\n",
    "    def __init__(self, address):\n",
    "        self.address = address\n",
    "\n",
    "\n",
    "class Hr(Profile):\n",
    "    def __init__(self,name,address):\n",
    "        self.name = name\n",
    "        Profile.__init__(self,address)\n",
    "        \n",
    "    def info(self):\n",
    "        print(self.name, self.address)\n",
    "        \n",
    "\n",
    "x = Hr(\"Ram\", \"Nepal\")\n",
    "x.info()\n",
    "\n"
   ]
  },
  {
   "cell_type": "code",
   "execution_count": 24,
   "metadata": {},
   "outputs": [],
   "source": [
    "class A:\n",
    "    pass\n",
    "\n",
    "class B(A):\n",
    "    pass\n",
    "\n",
    "class C(B):\n",
    "    pass\n",
    "\n",
    "obj = C()"
   ]
  },
  {
   "cell_type": "code",
   "execution_count": 25,
   "metadata": {},
   "outputs": [],
   "source": [
    "class A:\n",
    "    pass\n",
    "\n",
    "class B:\n",
    "    pass\n",
    "\n",
    "class C(A,B):\n",
    "    pass\n",
    "\n",
    "obj = C()"
   ]
  },
  {
   "cell_type": "code",
   "execution_count": 26,
   "metadata": {},
   "outputs": [
    {
     "name": "stdout",
     "output_type": "stream",
     "text": [
      "Ram Nepal\n"
     ]
    }
   ],
   "source": [
    "class Name:\n",
    "    def __init__(self, name):\n",
    "        self.name = name\n",
    "\n",
    "class Address:\n",
    "    def __init__(self, address):\n",
    "        self.address = address\n",
    "        \n",
    "class Info(Name,Address):\n",
    "    def __init__(self,name,address):\n",
    "        Name.__init__(self,name)\n",
    "        Address.__init__(self,address)\n",
    "\n",
    "        \n",
    "    def info(self):\n",
    "        print(self.name, self.address)\n",
    "        \n",
    "\n",
    "x = Info(\"Ram\", \"Nepal\")\n",
    "x.info()\n",
    "\n"
   ]
  },
  {
   "cell_type": "code",
   "execution_count": null,
   "metadata": {},
   "outputs": [],
   "source": [
    "class Name:\n",
    "    def __init__(self, name):\n",
    "        self.name = name\n",
    "\n",
    "class Address:\n",
    "    def __init__(self, address):\n",
    "        self.address = address\n",
    "        \n",
    "class Info(Name,Address):\n",
    "    def __init__(self,name,address,age):\n",
    "        self.age = age\n",
    "        Name.__init__(self,name)\n",
    "        Address.__init__(self,address)\n",
    "\n",
    "        \n",
    "    def info(self):\n",
    "        print(self.name, self.address,self.age)\n",
    "        \n",
    "\n",
    "x = Info(\"Ram\", \"Nepal\",56)\n",
    "x.info()\n",
    "\n"
   ]
  },
  {
   "cell_type": "code",
   "execution_count": 36,
   "metadata": {},
   "outputs": [
    {
     "name": "stdout",
     "output_type": "stream",
     "text": [
      "Ram Nepal 56\n",
      "Ram\n"
     ]
    }
   ],
   "source": [
    "class Name:\n",
    "    def __init__(self, name):\n",
    "        self.name = name\n",
    "   \n",
    "class Address:\n",
    "    def __init__(self,name,address):\n",
    "        self.address = address\n",
    "        Name.__init__(self,name)\n",
    "\n",
    "        \n",
    "class Info(Address):\n",
    "    def __init__(self,name,address,age):\n",
    "        self.age = age\n",
    "        Address.__init__(self,name,address)\n",
    "\n",
    "        \n",
    "    def info(self):\n",
    "        print(self.name, self.address,self.age)\n",
    "        \n",
    "\n",
    "x = Info(\"Ram\", \"Nepal\",56)\n",
    "x.info()\n",
    "print(x.name)"
   ]
  },
  {
   "cell_type": "code",
   "execution_count": 2,
   "metadata": {},
   "outputs": [
    {
     "name": "stdout",
     "output_type": "stream",
     "text": [
      "Ram\n",
      "34\n",
      "Kathmandu\n"
     ]
    }
   ],
   "source": [
    "#Public members\n",
    "class Info:\n",
    "    def __init__(self,name,age,address):\n",
    "        self.name = name\n",
    "        self.age = age\n",
    "        self.address =address\n",
    "        \n",
    "obj = Info(\"Ram\",34,\"Kathmandu\")\n",
    "\n",
    "print(obj.name)\n",
    "print(obj.age)\n",
    "print(obj.address)"
   ]
  },
  {
   "cell_type": "code",
   "execution_count": 4,
   "metadata": {},
   "outputs": [
    {
     "name": "stdout",
     "output_type": "stream",
     "text": [
      "Ram\n",
      "34\n",
      "Kathmandu\n"
     ]
    }
   ],
   "source": [
    "#protected members\n",
    "class Info:\n",
    "    def __init__(self,name,age,address):\n",
    "        self._name = name\n",
    "        self._age = age\n",
    "        self._address =address\n",
    "        \n",
    "obj = Info(\"Ram\",34,\"Kathmandu\")\n",
    "\n",
    "print(obj._name)\n",
    "print(obj._age)\n",
    "print(obj._address)"
   ]
  },
  {
   "cell_type": "code",
   "execution_count": 5,
   "metadata": {},
   "outputs": [
    {
     "ename": "AttributeError",
     "evalue": "'Info' object has no attribute '__name'",
     "output_type": "error",
     "traceback": [
      "\u001b[1;31m---------------------------------------------------------------------------\u001b[0m",
      "\u001b[1;31mAttributeError\u001b[0m                            Traceback (most recent call last)",
      "\u001b[1;32m~\\AppData\\Local\\Temp/ipykernel_6944/669059111.py\u001b[0m in \u001b[0;36m<module>\u001b[1;34m\u001b[0m\n\u001b[0;32m      8\u001b[0m \u001b[0mobj\u001b[0m \u001b[1;33m=\u001b[0m \u001b[0mInfo\u001b[0m\u001b[1;33m(\u001b[0m\u001b[1;34m\"Ram\"\u001b[0m\u001b[1;33m,\u001b[0m\u001b[1;36m34\u001b[0m\u001b[1;33m,\u001b[0m\u001b[1;34m\"Kathmandu\"\u001b[0m\u001b[1;33m)\u001b[0m\u001b[1;33m\u001b[0m\u001b[1;33m\u001b[0m\u001b[0m\n\u001b[0;32m      9\u001b[0m \u001b[1;33m\u001b[0m\u001b[0m\n\u001b[1;32m---> 10\u001b[1;33m \u001b[0mprint\u001b[0m\u001b[1;33m(\u001b[0m\u001b[0mobj\u001b[0m\u001b[1;33m.\u001b[0m\u001b[0m__name\u001b[0m\u001b[1;33m)\u001b[0m\u001b[1;33m\u001b[0m\u001b[1;33m\u001b[0m\u001b[0m\n\u001b[0m\u001b[0;32m     11\u001b[0m \u001b[0mprint\u001b[0m\u001b[1;33m(\u001b[0m\u001b[0mobj\u001b[0m\u001b[1;33m.\u001b[0m\u001b[0m__age\u001b[0m\u001b[1;33m)\u001b[0m\u001b[1;33m\u001b[0m\u001b[1;33m\u001b[0m\u001b[0m\n\u001b[0;32m     12\u001b[0m \u001b[0mprint\u001b[0m\u001b[1;33m(\u001b[0m\u001b[0mobj\u001b[0m\u001b[1;33m.\u001b[0m\u001b[0m__address\u001b[0m\u001b[1;33m)\u001b[0m\u001b[1;33m\u001b[0m\u001b[1;33m\u001b[0m\u001b[0m\n",
      "\u001b[1;31mAttributeError\u001b[0m: 'Info' object has no attribute '__name'"
     ]
    }
   ],
   "source": [
    "#private members\n",
    "class Info:\n",
    "    def __init__(self,name,age,address):\n",
    "        self.__name = name\n",
    "        self.__age = age\n",
    "        self.__address =address\n",
    "        \n",
    "obj = Info(\"Ram\",34,\"Kathmandu\")\n",
    "\n",
    "print(obj.__name)\n",
    "print(obj.__age)\n",
    "print(obj.__address)"
   ]
  },
  {
   "cell_type": "code",
   "execution_count": 6,
   "metadata": {},
   "outputs": [
    {
     "name": "stdout",
     "output_type": "stream",
     "text": [
      "Ram\n",
      "34\n",
      "Kathmandu\n"
     ]
    }
   ],
   "source": [
    "#private members\n",
    "class Info:\n",
    "    def __init__(self,name,age,address):\n",
    "        self.__name = name\n",
    "        self.__age = age\n",
    "        self.__address =address\n",
    "        \n",
    "obj = Info(\"Ram\",34,\"Kathmandu\")\n",
    "\n",
    "print(obj._Info__name)\n",
    "print(obj._Info__age)\n",
    "print(obj._Info__address)"
   ]
  },
  {
   "cell_type": "code",
   "execution_count": 7,
   "metadata": {},
   "outputs": [
    {
     "name": "stdout",
     "output_type": "stream",
     "text": [
      "Enter name = Ram\n",
      "Enter age = 34\n",
      "Enter address = Kathmandu\n",
      "Hello World I am Ram. I am from Kathmandu. I am 34\n"
     ]
    }
   ],
   "source": [
    "class Profile:\n",
    "    def __init__(self):\n",
    "        self._name = input(\"Enter name = \")\n",
    "        self.__age = int(input(\"Enter age = \"))\n",
    "        self.address = input(\"Enter address = \")\n",
    "\n",
    "\n",
    "class Hr(Profile):\n",
    "    def info(self):\n",
    "        print(f\"Hello World I am {self._name}. I am from {self.address}. I am {self._Profile__age}\")\n",
    "\n",
    "x = Hr()\n",
    "x.info()"
   ]
  },
  {
   "cell_type": "code",
   "execution_count": 9,
   "metadata": {},
   "outputs": [
    {
     "name": "stdout",
     "output_type": "stream",
     "text": [
      "Hello I am Ram. I am from Nepal. I am 56\n",
      "Ram\n",
      "Nepal\n",
      "56\n"
     ]
    }
   ],
   "source": [
    "class Name:\n",
    "    def __init__(self, name):\n",
    "        self.name = name\n",
    "   \n",
    "class Address:\n",
    "    def __init__(self,name,address):\n",
    "        self._address = address\n",
    "        Name.__init__(self,name)\n",
    "\n",
    "        \n",
    "class Info(Address):\n",
    "    def __init__(self,name,address,age):\n",
    "        self.__age = age\n",
    "        Address.__init__(self,name,address)\n",
    "\n",
    "        \n",
    "    def info(self):\n",
    "        print(f\"Hello I am {self.name}. I am from {self._address}. I am {self.__age}\")\n",
    "        \n",
    "\n",
    "x = Info(\"Ram\", \"Nepal\",56)\n",
    "x.info()\n",
    "print(x.name)\n",
    "print(x._address)\n",
    "print(x._Info__age)"
   ]
  },
  {
   "cell_type": "code",
   "execution_count": 12,
   "metadata": {},
   "outputs": [
    {
     "name": "stdout",
     "output_type": "stream",
     "text": [
      "Enter name = Ram\n",
      "Enter age = 34\n",
      "Enter address = Kathmandu\n"
     ]
    },
    {
     "data": {
      "text/plain": [
       "34"
      ]
     },
     "execution_count": 12,
     "metadata": {},
     "output_type": "execute_result"
    }
   ],
   "source": [
    "class Profile:\n",
    "    def __init__(self):\n",
    "        self._name = input(\"Enter name = \")\n",
    "        self.__age = int(input(\"Enter age = \"))\n",
    "        self.address = input(\"Enter address = \")\n",
    "        \n",
    "    def age(self):\n",
    "        return self.__age\n",
    "\n",
    "\n",
    "class Hr(Profile):\n",
    "    def info(self):\n",
    "        print(f\"Hello World I am {self._name}. I am from {self.address}. I am {super().age()}\")\n",
    "        print(super().age())\n",
    "\n",
    "x = Hr()\n",
    "x.age()"
   ]
  },
  {
   "cell_type": "code",
   "execution_count": null,
   "metadata": {},
   "outputs": [],
   "source": []
  }
 ],
 "metadata": {
  "kernelspec": {
   "display_name": "Python 3 (ipykernel)",
   "language": "python",
   "name": "python3"
  },
  "language_info": {
   "codemirror_mode": {
    "name": "ipython",
    "version": 3
   },
   "file_extension": ".py",
   "mimetype": "text/x-python",
   "name": "python",
   "nbconvert_exporter": "python",
   "pygments_lexer": "ipython3",
   "version": "3.7.1"
  }
 },
 "nbformat": 4,
 "nbformat_minor": 2
}
